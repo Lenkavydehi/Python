{
 "cells": [
  {
   "cell_type": "markdown",
   "id": "225be9d8-771f-419e-87c0-9a71cdd58b29",
   "metadata": {},
   "source": [
    "**Functions**\n",
    "\n",
    "- A block of code which can you many times"
   ]
  },
  {
   "cell_type": "code",
   "execution_count": 1,
   "id": "d6d707b1-a3a1-4700-b3f1-48fd97161e64",
   "metadata": {},
   "outputs": [
    {
     "name": "stdout",
     "output_type": "stream",
     "text": [
      "30\n"
     ]
    }
   ],
   "source": [
    "num1 = 10\n",
    "num2 = 20\n",
    "add=num1+num2\n",
    "print(add)"
   ]
  },
  {
   "cell_type": "code",
   "execution_count": 24,
   "id": "6503fb32-c548-4f6b-943f-400448147d49",
   "metadata": {},
   "outputs": [
    {
     "data": {
      "text/plain": [
       "<bound method Random.randint of <random.Random object at 0x000002322473A2A0>>"
      ]
     },
     "execution_count": 24,
     "metadata": {},
     "output_type": "execute_result"
    }
   ],
   "source": [
    "import random\n",
    "random.randint"
   ]
  },
  {
   "cell_type": "code",
   "execution_count": null,
   "id": "88230b15-9d6d-4467-bdf3-6c492e6cafd1",
   "metadata": {},
   "outputs": [],
   "source": [
    "def <Function_name><():\n",
    "    <codelines>\n"
   ]
  },
  {
   "cell_type": "markdown",
   "id": "713a163f-c287-4853-93fa-e08a15c9406d",
   "metadata": {},
   "source": [
    "**Functions with out arguments**"
   ]
  },
  {
   "cell_type": "code",
   "execution_count": 2,
   "id": "711629c1-8907-406d-a2b8-3ef20e239b39",
   "metadata": {},
   "outputs": [],
   "source": [
    "def addition():\n",
    "    num1=10\n",
    "    num2=20\n",
    "    add=num1+num2\n",
    "    print(add)"
   ]
  },
  {
   "cell_type": "code",
   "execution_count": null,
   "id": "2923b676-de9a-41a7-8e96-68275737e2a7",
   "metadata": {},
   "outputs": [],
   "source": [
    "# function name is addition\n",
    "# in order to execute code lines\n",
    "#we need to call the function"
   ]
  },
  {
   "cell_type": "code",
   "execution_count": 3,
   "id": "7e39597e-7010-4d10-a139-5694665b2355",
   "metadata": {},
   "outputs": [
    {
     "name": "stdout",
     "output_type": "stream",
     "text": [
      "30\n"
     ]
    }
   ],
   "source": [
    "addition()"
   ]
  },
  {
   "cell_type": "code",
   "execution_count": 4,
   "id": "e686256b-582c-42b9-b17a-88add2cdb5c3",
   "metadata": {},
   "outputs": [
    {
     "name": "stdout",
     "output_type": "stream",
     "text": [
      "num1 is: 10\n",
      "num2 is: 20\n",
      "the addition of 10 and 20 is 30\n"
     ]
    }
   ],
   "source": [
    "def addition():\n",
    "    num1=10\n",
    "    print(\"num1 is:\",num1)\n",
    "    num2=20\n",
    "    print(\"num2 is:\",num2)\n",
    "    add=num1+num2\n",
    "    print(f\"the addition of {num1} and {num2} is {add}\")\n",
    "    \n",
    "addition() "
   ]
  },
  {
   "cell_type": "markdown",
   "id": "c046735a-a7eb-4251-a690-fa042d9e1501",
   "metadata": {},
   "source": [
    "**Note**\n",
    "\n",
    "- function names can be anything\n",
    "\n",
    "- same rules applicable as variable rules\n",
    "\n",
    "- whenver you create the  function make sure the indentation correctly\n",
    "\n",
    "- starting with keyword, ending with colon the code lines start with indetation \n",
    "\n",
    "- brackets means function\n",
    "\n",
    "- Never missed the brackets whenever you call the function\n",
    "\n",
    "- if you want to execute the code we need to call the function\n",
    "\n",
    "- while you are calling the function if you see function or bound method\n",
    "\n",
    "- which means you missed the brackets\n",
    "\n"
   ]
  },
  {
   "cell_type": "markdown",
   "id": "632c8f9c-7934-4dc1-b557-45c6d1de3e42",
   "metadata": {},
   "source": [
    "**whenever we defined the function it does not throw any error untill we call the funtion**"
   ]
  },
  {
   "cell_type": "code",
   "execution_count": 5,
   "id": "89323172-aec6-4a86-a129-0f134eb2e960",
   "metadata": {},
   "outputs": [
    {
     "name": "stdout",
     "output_type": "stream",
     "text": [
      "the average of 30, 20 and 20 is:30.0\n"
     ]
    }
   ],
   "source": [
    "#create a funtion for average\n",
    "\n",
    "def avg():\n",
    "    num1=30\n",
    "    num2=20\n",
    "    num3=40\n",
    "    average=(num1+num2+num3)/3\n",
    "    print(f\"the average of {num1}, {num2} and {num2} is:{average}\")\n",
    "\n",
    "avg()"
   ]
  },
  {
   "cell_type": "code",
   "execution_count": 10,
   "id": "af362384-3acd-4654-885b-9adeffada34b",
   "metadata": {},
   "outputs": [
    {
     "name": "stdin",
     "output_type": "stream",
     "text": [
      "enter the number1 20\n",
      "enter the number2 30\n",
      "enter the number3 40\n"
     ]
    },
    {
     "name": "stdout",
     "output_type": "stream",
     "text": [
      " the average of three numbers is:30.0\n"
     ]
    }
   ],
   "source": [
    "# wap ask the user enter 3 numbers calculate average\n",
    "num1=eval(input(\"enter the number1\"))\n",
    "num2=eval(input(\"enter the number2\"))\n",
    "num3=eval(input(\"enter the number3\"))\n",
    "avg=(num1+num2+num3)/3\n",
    "avg1=round(avg,2)\n",
    "print(f\" the average of three numbers is:{avg}\")\n",
    "          "
   ]
  },
  {
   "cell_type": "code",
   "execution_count": 11,
   "id": "0ca1ba83-5be0-4a70-a19a-1f0303c09323",
   "metadata": {},
   "outputs": [
    {
     "name": "stdin",
     "output_type": "stream",
     "text": [
      "enter the value: 30\n"
     ]
    },
    {
     "name": "stdout",
     "output_type": "stream",
     "text": [
      "the area of the circle is : 2826.0\n"
     ]
    }
   ],
   "source": [
    "#wap ask the user enter radius values find the area of the circle\n",
    "\n",
    "def area():\n",
    "    radius=eval(input(\"enter the value:\"))\n",
    "    pi_value=3.14\n",
    "    area=radius*radius*3.14\n",
    "    print(f\"the area of the circle is : {area}\")\n",
    "area()    "
   ]
  },
  {
   "cell_type": "code",
   "execution_count": 21,
   "id": "07c4e3b9-3e24-4581-8fe6-82db903d7ded",
   "metadata": {},
   "outputs": [
    {
     "name": "stdin",
     "output_type": "stream",
     "text": [
      "enter the amount: 1000\n",
      "enter the amount: 20\n"
     ]
    },
    {
     "name": "stdout",
     "output_type": "stream",
     "text": [
      "the total bill is: 1200.0\n"
     ]
    }
   ],
   "source": [
    "#wap ask the user bill amount\n",
    "#  ask the user how much tip you want pay in percentage\n",
    "# calculate totalbill\n",
    "\n",
    "def bill_amount():\n",
    "    meal_bill=eval(input(\"enter the amount:\"))\n",
    "    tip_percent=eval(input(\"enter the amount:\"))\n",
    "    tip_amount=meal_bill*(tip_percent/100)\n",
    "    total_bill=meal_bill+tip_amount\n",
    "    print(f\"the total bill is: {total_bill}\")\n",
    "\n",
    "bill_amount()"
   ]
  },
  {
   "cell_type": "code",
   "execution_count": 22,
   "id": "75e9a3bf-d900-4bc2-aad0-807d04e6360d",
   "metadata": {},
   "outputs": [
    {
     "name": "stdin",
     "output_type": "stream",
     "text": [
      "enter the base value: 5\n",
      "enter the height value: 15\n"
     ]
    },
    {
     "name": "stdout",
     "output_type": "stream",
     "text": [
      "the area of the triangle is 37.5\n"
     ]
    }
   ],
   "source": [
    "# wap ask the user base height calculate area of the triangle\n",
    "def area_of_triangle():\n",
    "    base=eval(input(\"enter the base value:\"))\n",
    "    height=eval(input(\"enter the height value:\"))\n",
    "    area=base*height*0.5\n",
    "    print(f\"the area of the triangle is {area}\")\n",
    "\n",
    "area_of_triangle()"
   ]
  },
  {
   "cell_type": "code",
   "execution_count": 23,
   "id": "13c618d0-09cf-4226-a1df-3f8d27a9ff37",
   "metadata": {},
   "outputs": [
    {
     "name": "stdin",
     "output_type": "stream",
     "text": [
      "enter the length of rectangle: 5\n",
      "enter the breadth of the rectangle: 15\n"
     ]
    },
    {
     "name": "stdout",
     "output_type": "stream",
     "text": [
      "the area of the rectangle is:75\n"
     ]
    }
   ],
   "source": [
    "# wap ask the user base height calculate area of the rectangle\n",
    "def area_of_rectangle():\n",
    "    length=eval(input(\"enter the length of rectangle:\"))\n",
    "    breadth=eval(input(\"enter the breadth of the rectangle:\"))\n",
    "    area=length*breadth\n",
    "    print(f\"the area of the rectangle is:{area}\")\n",
    "\n",
    "area_of_rectangle()"
   ]
  },
  {
   "cell_type": "markdown",
   "id": "60c5afa9-39d5-49ce-9823-d8fd37eeffe0",
   "metadata": {},
   "source": [
    "- while we are definding function if nothing mentioned means\n",
    "\n",
    "- it is called as functions with out arguments"
   ]
  },
  {
   "cell_type": "code",
   "execution_count": null,
   "id": "703d48be-6d5f-4b21-b06f-c9ec083f4f37",
   "metadata": {},
   "outputs": [],
   "source": [
    "def average()\n",
    "def area_of_triange()\n",
    "def bill()"
   ]
  },
  {
   "cell_type": "markdown",
   "id": "49bda815-f1a7-483d-93ab-9e1d4f50319a",
   "metadata": {},
   "source": [
    "**function with arguments**\n",
    "\n",
    "- first look at how many arguments or variables are there\n",
    "\n",
    "- In that how many input variables  are there\n",
    "\n",
    "- How many output variables are there \n",
    "\n",
    "- input variablews means user can defind\n",
    "\n",
    "- output variables means python gives  the output\n",
    "\n",
    "- we can use only input variables as arguments inside the function"
   ]
  },
  {
   "cell_type": "code",
   "execution_count": 12,
   "id": "496a1ede-ca2d-4b3e-a0bc-cf05f38068c0",
   "metadata": {},
   "outputs": [
    {
     "name": "stdout",
     "output_type": "stream",
     "text": [
      "the addition of 10 and 20 is:30\n"
     ]
    }
   ],
   "source": [
    "def addition2(num1,num2):\n",
    "    add=num1+num2\n",
    "    print(f\"the addition of {num1} and {num2} is:{add}\")\n",
    "\n",
    "addition2(10,20)"
   ]
  },
  {
   "cell_type": "code",
   "execution_count": 15,
   "id": "f4938e1c-3144-43ec-a21d-6c49faf6a1d2",
   "metadata": {},
   "outputs": [
    {
     "name": "stdout",
     "output_type": "stream",
     "text": [
      "the average of 20,30 and 40 is:30.0\n"
     ]
    }
   ],
   "source": [
    "# try for average\n",
    "\n",
    "def average(num1,num2,num3):\n",
    "    avg=(num1+num2+num3)/3\n",
    "    avg1=round(avg,2)\n",
    "    print(f\"the average of {num1},{num2} and {num3} is:{avg1}\")\n",
    "\n",
    "average(20,30,40)\n"
   ]
  },
  {
   "cell_type": "code",
   "execution_count": 16,
   "id": "cdb787c9-76c6-4614-8eb6-7e42abf7c7a1",
   "metadata": {},
   "outputs": [
    {
     "name": "stdout",
     "output_type": "stream",
     "text": [
      "the area of the triangle is 186.0\n"
     ]
    }
   ],
   "source": [
    "# area of triangle\n",
    "\n",
    "def area_of_triangle(legnth,height):\n",
    "    area=legnth*height*0.5\n",
    "    print(f\"the area of the triangle is {area}\")\n",
    "\n",
    "area_of_triangle(12,31)\n",
    "    "
   ]
  },
  {
   "cell_type": "code",
   "execution_count": 26,
   "id": "5dfdfa16-fa90-4802-a578-9477cdbf7fe3",
   "metadata": {},
   "outputs": [
    {
     "name": "stdout",
     "output_type": "stream",
     "text": [
      "the area of the rectangle is 200\n"
     ]
    }
   ],
   "source": [
    "# area of rectangle\n",
    "def area(length,breadth):\n",
    "    area=length*breadth\n",
    "    print(f\"the area of the rectangle is {area}\")\n",
    "\n",
    "area(10,20)"
   ]
  },
  {
   "cell_type": "markdown",
   "id": "a491072b-a8e2-48fc-a204-aec8aeb7958c",
   "metadata": {},
   "source": [
    "**do not provide function and variable name both are same**"
   ]
  },
  {
   "cell_type": "markdown",
   "id": "748e3c4b-bb66-436f-8492-fd878b0b7399",
   "metadata": {},
   "source": [
    "**Default arguments**"
   ]
  },
  {
   "cell_type": "code",
   "execution_count": 3,
   "id": "de811d4f-e2f7-444a-befc-5d709bb93cdf",
   "metadata": {},
   "outputs": [
    {
     "name": "stdin",
     "output_type": "stream",
     "text": [
      "enter the bill: 1000\n",
      "enter the bill: 20\n"
     ]
    },
    {
     "name": "stdout",
     "output_type": "stream",
     "text": [
      "the total bill is 1200.0\n"
     ]
    }
   ],
   "source": [
    "#Biil amount problem\n",
    "bill=eval(input(\"enter the bill:\"))\n",
    "tip_percent=eval(input(\"enter the bill:\"))\n",
    "tip_amount=bill*(tip_percent/100)\n",
    "total_bill=bill+tip_amount\n",
    "print(f\"the total bill is {total_bill}\")\n",
    "\n",
    "                 \n"
   ]
  },
  {
   "cell_type": "code",
   "execution_count": 4,
   "id": "f1b05bfe-0001-4211-b411-1bd86848baa1",
   "metadata": {},
   "outputs": [
    {
     "name": "stdin",
     "output_type": "stream",
     "text": [
      "enter the bill: 1000\n",
      "enter the bill: 10\n"
     ]
    },
    {
     "name": "stdout",
     "output_type": "stream",
     "text": [
      "the total bill is 1100.0\n"
     ]
    }
   ],
   "source": [
    "# with out argument\n",
    "def bill_pay():\n",
    "    bill=eval(input(\"enter the bill:\"))\n",
    "    tip_percent=eval(input(\"enter the bill:\"))\n",
    "    tip_amount=bill*(tip_percent/100)\n",
    "    total_bill=bill+tip_amount\n",
    "    print(f\"the total bill is {total_bill}\")\n",
    "\n",
    "    \n",
    "bill_pay()\n"
   ]
  },
  {
   "cell_type": "code",
   "execution_count": 7,
   "id": "05b4d685-d005-403c-b29b-db5abcbe013e",
   "metadata": {},
   "outputs": [
    {
     "name": "stdout",
     "output_type": "stream",
     "text": [
      "the total bill is 2400.0\n"
     ]
    }
   ],
   "source": [
    "#with argument\n",
    "# whenever you provide the arguments \n",
    "# these provided arguments are we using inside the code or not\n",
    "def bill_pay(bill,tip_per=20):\n",
    "    tip_amount=bill*(tip_percent/100)\n",
    "    total_bill=bill+tip_amount\n",
    "    print(f\"the total bill is {total_bill}\")\n",
    "\n",
    "bill_pay(2000)\n",
    "# here the tip_per=default value\n",
    "#whenever we provided defalut value to a arguments\n",
    "# then it is called default argumebt\n",
    "#what is i pass value by keeping default value\n",
    "    \n"
   ]
  },
  {
   "cell_type": "code",
   "execution_count": 8,
   "id": "de4b5425-cd0f-499a-a00d-a33895d9548f",
   "metadata": {},
   "outputs": [
    {
     "name": "stdout",
     "output_type": "stream",
     "text": [
      "num1: 30\n",
      "num2: 40\n",
      "num3: 50\n",
      "the average of 30,40 and 50 is:40.0\n"
     ]
    }
   ],
   "source": [
    "def average(num1,num2,num3=50):\n",
    "    print(\"num1:\",num1) #30\n",
    "    print(\"num2:\",num2) #40\n",
    "    print(\"num3:\",num3) #50\n",
    "    avg=(num1+num2+num3)/3\n",
    "    avg1=round(avg,2)\n",
    "    print(f\"the average of {num1},{num2} and {num3} is:{avg1}\")\n",
    "\n",
    "average(30,40)\n",
    "# num1 num2 are positional arguments\n",
    "# num3 is default arguments"
   ]
  },
  {
   "cell_type": "code",
   "execution_count": 9,
   "id": "c70224e6-3758-4443-a8eb-d2ed098b1ad1",
   "metadata": {},
   "outputs": [
    {
     "ename": "SyntaxError",
     "evalue": "non-default argument follows default argument (2430549798.py, line 1)",
     "output_type": "error",
     "traceback": [
      "\u001b[1;36m  Cell \u001b[1;32mIn[9], line 1\u001b[1;36m\u001b[0m\n\u001b[1;33m    def average(num1,num2=40,num3):\u001b[0m\n\u001b[1;37m                             ^\u001b[0m\n\u001b[1;31mSyntaxError\u001b[0m\u001b[1;31m:\u001b[0m non-default argument follows default argument\n"
     ]
    }
   ],
   "source": [
    "def average(num1,num2=40,num3):\n",
    "    print(\"num1:\",num1) #30\n",
    "    print(\"num2:\",num2) #40\n",
    "    print(\"num3:\",num3) #50\n",
    "    avg=(num1+num2+num3)/3\n",
    "    avg1=round(avg,2)\n",
    "    print(f\"the average of {num1},{num2} and {num3} is:{avg1}\")\n",
    "\n",
    "average(30,50)"
   ]
  },
  {
   "cell_type": "code",
   "execution_count": 10,
   "id": "68fd95c2-37ab-49c0-b4e0-8afb3a054e57",
   "metadata": {},
   "outputs": [
    {
     "name": "stdout",
     "output_type": "stream",
     "text": [
      "num1: 30\n",
      "num2: 40\n",
      "num3: 50\n",
      "the average of 30,40 and 50 is:40.0\n"
     ]
    }
   ],
   "source": [
    "def average(num1,num3,num2=40):\n",
    "    print(\"num1:\",num1) #30\n",
    "    print(\"num2:\",num2) #40\n",
    "    print(\"num3:\",num3) #50\n",
    "    avg=(num1+num2+num3)/3\n",
    "    avg1=round(avg,2)\n",
    "    print(f\"the average of {num1},{num2} and {num3} is:{avg1}\")\n",
    "\n",
    "average(30,50)"
   ]
  },
  {
   "cell_type": "markdown",
   "id": "e7a07dc5-7a7d-4f27-876a-5041f4cf7e8d",
   "metadata": {},
   "source": [
    "**Note**\n",
    "\n",
    "- default arguments are always should be in the last"
   ]
  },
  {
   "cell_type": "code",
   "execution_count": null,
   "id": "7c5033d9-dcaa-463c-a282-aec4828e72dc",
   "metadata": {},
   "outputs": [],
   "source": [
    "average1(num1,num2,nnum3=40)#w\n",
    "average2(num1,num2=50,num3)#f\n",
    "average3(num=100,num2,num3)#f\n",
    "average4(num1,num=50,num40)#w\n",
    "average5(num1=100,num2,num3=40)#f\n",
    "average6(num1=100,num=50,num3)#f\n",
    "average(num1=100,num2=50,num3=40)#w"
   ]
  },
  {
   "cell_type": "code",
   "execution_count": 13,
   "id": "f80e2a50-19da-42bb-a8b3-70f1592cb6a8",
   "metadata": {},
   "outputs": [
    {
     "name": "stdout",
     "output_type": "stream",
     "text": [
      "1100\n"
     ]
    }
   ],
   "source": [
    "#case-1:\n",
    "def addition(n1,n2=600):\n",
    "    add=n1+n2\n",
    "    print(add)\n",
    "\n",
    "addition(500)"
   ]
  },
  {
   "cell_type": "code",
   "execution_count": 14,
   "id": "6a50e20a-e39d-4f86-aafa-3309e4f347a4",
   "metadata": {},
   "outputs": [
    {
     "name": "stdout",
     "output_type": "stream",
     "text": [
      "1500\n"
     ]
    }
   ],
   "source": [
    "#case-2:\n",
    "def addition(n1,n2=600):\n",
    "    add=n1+n2\n",
    "    print(add)\n",
    "\n",
    "addition(500,1000)\n",
    "#frist we are defining function\n",
    "# while define the function we given n2=600\n",
    "#now we are calling the function\n",
    "#while we are calling n2=1000\n",
    "# values will be overwrite\n",
    "#python alway takes the latest values"
   ]
  },
  {
   "cell_type": "code",
   "execution_count": 15,
   "id": "8adf9b6e-d9fe-483b-8ae9-17aa851a3547",
   "metadata": {},
   "outputs": [
    {
     "name": "stdout",
     "output_type": "stream",
     "text": [
      "2500\n"
     ]
    }
   ],
   "source": [
    "#case-3:\n",
    "def addition(n1,n2=600):\n",
    "    n2=2000\n",
    "    add=n1+n2\n",
    "    print(add)\n",
    "\n",
    "addition(500,1000)\n",
    "# step-1 defin function n2=600\n",
    "#step-2 call the function n2=1000\n",
    "#step-3 running the function n2=2000\n"
   ]
  },
  {
   "cell_type": "code",
   "execution_count": 16,
   "id": "42efe016-5ca8-4ec9-9d90-c5aade5bad7f",
   "metadata": {},
   "outputs": [
    {
     "name": "stdout",
     "output_type": "stream",
     "text": [
      "2500\n"
     ]
    }
   ],
   "source": [
    "#case-4:\n",
    "def addition(n1,n2=600):\n",
    "    n2=2000\n",
    "    add=n1+n2\n",
    "    print(add)\n",
    "n2=3000\n",
    "addition(500,1000)\n",
    "\n",
    "#n2=600=====>3000=====>1000====>2500"
   ]
  },
  {
   "cell_type": "markdown",
   "id": "bc64c49c-9fc0-47fe-9a4d-eb65e09a077d",
   "metadata": {},
   "source": [
    "**Local variable and Global variable**\n",
    "\n",
    "- Local variable means: the variable inside the function call\n",
    "\n",
    "- Global variable means: the variables outside the function call\n",
    "\n",
    "- once you define the variables outside means,you can use those variables anywhere\n",
    "\n",
    "- you can global variables inside function also\n",
    "\n",
    "- but you can not use local variables outside the function"
   ]
  },
  {
   "cell_type": "code",
   "execution_count": 17,
   "id": "9ddb98b2-9031-4991-b8cc-ff0997bd6e4e",
   "metadata": {},
   "outputs": [
    {
     "name": "stdout",
     "output_type": "stream",
     "text": [
      "200\n"
     ]
    }
   ],
   "source": [
    "def multiplication():\n",
    "    a=10\n",
    "    b=20\n",
    "    mul=a*b\n",
    "    print(mul)\n",
    "\n",
    "multiplication()\n",
    "\n",
    "# a,b,mul are the local variables \n",
    "# these values we can not use outside the function"
   ]
  },
  {
   "cell_type": "code",
   "execution_count": 18,
   "id": "4d35710e-5db8-432b-9cfd-f8552e09a4a8",
   "metadata": {},
   "outputs": [
    {
     "ename": "NameError",
     "evalue": "name 'a' is not defined",
     "output_type": "error",
     "traceback": [
      "\u001b[1;31m---------------------------------------------------------------------------\u001b[0m",
      "\u001b[1;31mNameError\u001b[0m                                 Traceback (most recent call last)",
      "Cell \u001b[1;32mIn[18], line 1\u001b[0m\n\u001b[1;32m----> 1\u001b[0m a\n",
      "\u001b[1;31mNameError\u001b[0m: name 'a' is not defined"
     ]
    }
   ],
   "source": [
    "a"
   ]
  },
  {
   "cell_type": "code",
   "execution_count": 19,
   "id": "abf7ce8b-2105-46d7-9329-c805451708f5",
   "metadata": {},
   "outputs": [
    {
     "name": "stdout",
     "output_type": "stream",
     "text": [
      "200\n"
     ]
    }
   ],
   "source": [
    "a1=10\n",
    "b1=20\n",
    "def multiplication1():\n",
    "    mul1=a1*b1\n",
    "    print(mul1)\n",
    "\n",
    "multiplication1()"
   ]
  },
  {
   "cell_type": "code",
   "execution_count": 21,
   "id": "1dea01b0-6aa3-4370-b0d4-1a0b7415ee43",
   "metadata": {},
   "outputs": [
    {
     "data": {
      "text/plain": [
       "10"
      ]
     },
     "execution_count": 21,
     "metadata": {},
     "output_type": "execute_result"
    }
   ],
   "source": [
    "a1"
   ]
  },
  {
   "cell_type": "code",
   "execution_count": 22,
   "id": "437b5997-32e7-47e8-8c23-b07f309770c7",
   "metadata": {},
   "outputs": [
    {
     "ename": "NameError",
     "evalue": "name 'mul1' is not defined",
     "output_type": "error",
     "traceback": [
      "\u001b[1;31m---------------------------------------------------------------------------\u001b[0m",
      "\u001b[1;31mNameError\u001b[0m                                 Traceback (most recent call last)",
      "Cell \u001b[1;32mIn[22], line 1\u001b[0m\n\u001b[1;32m----> 1\u001b[0m mul1\n",
      "\u001b[1;31mNameError\u001b[0m: name 'mul1' is not defined"
     ]
    }
   ],
   "source": [
    "mul1"
   ]
  },
  {
   "cell_type": "code",
   "execution_count": 25,
   "id": "c5e23da1-6865-4759-b275-bdc67e3b681c",
   "metadata": {},
   "outputs": [
    {
     "name": "stdout",
     "output_type": "stream",
     "text": [
      "1200\n"
     ]
    }
   ],
   "source": [
    "#case-5:\n",
    "a1=100\n",
    "b1=200\n",
    "def add11(a1=1000):\n",
    "    add1=a1+b1\n",
    "    print(add1)\n",
    "\n",
    "add11()\n",
    "#a1=100=====.1000====>1000+200\n",
    "#step-1: global variable intialization a1=100\n",
    "#step-2: define the function a1=1000\n",
    "#step-3: call the function a1=1000\n",
    "#step-4: running the function a1=1000\n"
   ]
  },
  {
   "cell_type": "code",
   "execution_count": 26,
   "id": "37ea20cf-00a7-441d-ab03-953d1ce6f423",
   "metadata": {},
   "outputs": [
    {
     "ename": "TypeError",
     "evalue": "add11() got an unexpected keyword argument 'b1'",
     "output_type": "error",
     "traceback": [
      "\u001b[1;31m---------------------------------------------------------------------------\u001b[0m",
      "\u001b[1;31mTypeError\u001b[0m                                 Traceback (most recent call last)",
      "Cell \u001b[1;32mIn[26], line 8\u001b[0m\n\u001b[0;32m      5\u001b[0m     add1\u001b[38;5;241m=\u001b[39ma1\u001b[38;5;241m+\u001b[39mb1\n\u001b[0;32m      6\u001b[0m     \u001b[38;5;28mprint\u001b[39m(add1)\n\u001b[1;32m----> 8\u001b[0m add11(a1\u001b[38;5;241m=\u001b[39m\u001b[38;5;241m2000\u001b[39m,b1\u001b[38;5;241m=\u001b[39m\u001b[38;5;241m3000\u001b[39m)\n",
      "\u001b[1;31mTypeError\u001b[0m: add11() got an unexpected keyword argument 'b1'"
     ]
    }
   ],
   "source": [
    "#case-6:\n",
    "a1=100\n",
    "b1=200\n",
    "def add11(a1=1000):\n",
    "    add1=a1+b1\n",
    "    print(add1)\n",
    "\n",
    "add11(a1=2000,b1=3000)\n",
    "\n",
    "#while define the function one arguments is there\n",
    "#while calling we are providing two arguments\n",
    "#it is not possible"
   ]
  },
  {
   "cell_type": "code",
   "execution_count": 27,
   "id": "dfc10ac2-737d-4c83-b750-fb164980b2e3",
   "metadata": {},
   "outputs": [
    {
     "name": "stdout",
     "output_type": "stream",
     "text": [
      "2200\n"
     ]
    }
   ],
   "source": [
    "#cas-7:\n",
    "a1=100\n",
    "b1=200\n",
    "def add11(a1=1000):\n",
    "    add1=a1+b1\n",
    "    print(add1)\n",
    "\n",
    "add11(a1=2000)"
   ]
  },
  {
   "cell_type": "code",
   "execution_count": 30,
   "id": "2ed8a954-ddac-487c-a90d-a831a01b40cf",
   "metadata": {},
   "outputs": [
    {
     "name": "stdout",
     "output_type": "stream",
     "text": [
      "5200\n"
     ]
    }
   ],
   "source": [
    "#case-8:\n",
    "a1=100\n",
    "b1=200\n",
    "def add11(a1=1000):\n",
    "    a1=5000\n",
    "    add1=a1+b1\n",
    "    print(add1)\n",
    "\n",
    "add11(a1=2000)"
   ]
  },
  {
   "cell_type": "code",
   "execution_count": 29,
   "id": "9fa59bbd-241d-4aef-aae5-a367c4c52be8",
   "metadata": {},
   "outputs": [
    {
     "data": {
      "text/plain": [
       "100"
      ]
     },
     "execution_count": 29,
     "metadata": {},
     "output_type": "execute_result"
    }
   ],
   "source": [
    "a1"
   ]
  },
  {
   "cell_type": "code",
   "execution_count": 31,
   "id": "c28e6188-1d29-47e7-90d6-94aaca86d2f2",
   "metadata": {},
   "outputs": [
    {
     "name": "stdout",
     "output_type": "stream",
     "text": [
      "5200\n"
     ]
    }
   ],
   "source": [
    "#case-9:\n",
    "a1=100\n",
    "b1=200\n",
    "def add11(a1=1000):\n",
    "    a1=5000\n",
    "    add1=a1+b1\n",
    "    print(add1)\n",
    "a1=6000\n",
    "add11(a1=2000)"
   ]
  },
  {
   "cell_type": "code",
   "execution_count": 32,
   "id": "8c580d95-b728-412d-9878-aee6c985b2da",
   "metadata": {},
   "outputs": [
    {
     "name": "stdout",
     "output_type": "stream",
     "text": [
      "6200\n"
     ]
    }
   ],
   "source": [
    "#case-10:\n",
    "b1=200\n",
    "def add11():\n",
    "    add1=a1+b1\n",
    "    print(add1)\n",
    "a1=6000\n",
    "add11()\n",
    "\n",
    "# b1=200\n",
    "# define the function \n",
    "# a1=6000\n",
    "#calling the function\n",
    "# running the function"
   ]
  },
  {
   "cell_type": "code",
   "execution_count": null,
   "id": "72cc423e-b6f2-4c9a-940d-cf12e7645c83",
   "metadata": {},
   "outputs": [],
   "source": [
    "#steo-1: variable intilised\n",
    "#step-2: defined the function\n",
    "#step-3: calling the function\n",
    "#step-4: running the function\n"
   ]
  },
  {
   "cell_type": "code",
   "execution_count": 34,
   "id": "c2b07a94-e957-4901-91d1-7625a51824fc",
   "metadata": {},
   "outputs": [
    {
     "ename": "NameError",
     "evalue": "name 'a21' is not defined",
     "output_type": "error",
     "traceback": [
      "\u001b[1;31m---------------------------------------------------------------------------\u001b[0m",
      "\u001b[1;31mNameError\u001b[0m                                 Traceback (most recent call last)",
      "Cell \u001b[1;32mIn[34], line 7\u001b[0m\n\u001b[0;32m      4\u001b[0m     add1\u001b[38;5;241m=\u001b[39ma21\u001b[38;5;241m+\u001b[39mb21\n\u001b[0;32m      5\u001b[0m     \u001b[38;5;28mprint\u001b[39m(add1)\n\u001b[1;32m----> 7\u001b[0m add11()\n\u001b[0;32m      8\u001b[0m a21\u001b[38;5;241m=\u001b[39m\u001b[38;5;241m600\u001b[39m\n",
      "Cell \u001b[1;32mIn[34], line 4\u001b[0m, in \u001b[0;36madd11\u001b[1;34m()\u001b[0m\n\u001b[0;32m      3\u001b[0m \u001b[38;5;28;01mdef\u001b[39;00m \u001b[38;5;21madd11\u001b[39m():\n\u001b[1;32m----> 4\u001b[0m     add1\u001b[38;5;241m=\u001b[39ma21\u001b[38;5;241m+\u001b[39mb21\n\u001b[0;32m      5\u001b[0m     \u001b[38;5;28mprint\u001b[39m(add1)\n",
      "\u001b[1;31mNameError\u001b[0m: name 'a21' is not defined"
     ]
    }
   ],
   "source": [
    "#case-12:\n",
    "b21=200\n",
    "def add11():\n",
    "    add1=a21+b21\n",
    "    print(add1)\n",
    "\n",
    "add11()\n",
    "a21=600"
   ]
  },
  {
   "cell_type": "code",
   "execution_count": 2,
   "id": "da275672-2196-4055-8590-f4b8803acc86",
   "metadata": {},
   "outputs": [
    {
     "name": "stdout",
     "output_type": "stream",
     "text": [
      "10\n"
     ]
    }
   ],
   "source": [
    "s=0\n",
    "def add():\n",
    "    s1=s+10\n",
    "    print(s1)\n",
    "\n",
    "add()"
   ]
  },
  {
   "cell_type": "code",
   "execution_count": 3,
   "id": "ecfe2a30-cc2b-4640-aaeb-c6b98d98b0a1",
   "metadata": {},
   "outputs": [
    {
     "ename": "UnboundLocalError",
     "evalue": "cannot access local variable 's' where it is not associated with a value",
     "output_type": "error",
     "traceback": [
      "\u001b[1;31m---------------------------------------------------------------------------\u001b[0m",
      "\u001b[1;31mUnboundLocalError\u001b[0m                         Traceback (most recent call last)",
      "Cell \u001b[1;32mIn[3], line 6\u001b[0m\n\u001b[0;32m      3\u001b[0m     s\u001b[38;5;241m=\u001b[39ms\u001b[38;5;241m+\u001b[39m\u001b[38;5;241m10\u001b[39m\n\u001b[0;32m      4\u001b[0m     \u001b[38;5;28mprint\u001b[39m(s)\n\u001b[1;32m----> 6\u001b[0m add()\n",
      "Cell \u001b[1;32mIn[3], line 3\u001b[0m, in \u001b[0;36madd\u001b[1;34m()\u001b[0m\n\u001b[0;32m      2\u001b[0m \u001b[38;5;28;01mdef\u001b[39;00m \u001b[38;5;21madd\u001b[39m():\n\u001b[1;32m----> 3\u001b[0m     s\u001b[38;5;241m=\u001b[39ms\u001b[38;5;241m+\u001b[39m\u001b[38;5;241m10\u001b[39m\n\u001b[0;32m      4\u001b[0m     \u001b[38;5;28mprint\u001b[39m(s)\n",
      "\u001b[1;31mUnboundLocalError\u001b[0m: cannot access local variable 's' where it is not associated with a value"
     ]
    }
   ],
   "source": [
    "s=0 # global variable\n",
    "def add():\n",
    "    s=s+10 #local variable\n",
    "    print(s)\n",
    "\n",
    "add()"
   ]
  },
  {
   "cell_type": "code",
   "execution_count": 4,
   "id": "1200f0d0-cdb6-44cf-86ae-d45817ce767f",
   "metadata": {},
   "outputs": [
    {
     "ename": "UnboundLocalError",
     "evalue": "cannot access local variable 's' where it is not associated with a value",
     "output_type": "error",
     "traceback": [
      "\u001b[1;31m---------------------------------------------------------------------------\u001b[0m",
      "\u001b[1;31mUnboundLocalError\u001b[0m                         Traceback (most recent call last)",
      "Cell \u001b[1;32mIn[4], line 7\u001b[0m\n\u001b[0;32m      4\u001b[0m     s\u001b[38;5;241m=\u001b[39mc\n\u001b[0;32m      5\u001b[0m     \u001b[38;5;28mprint\u001b[39m(s)\n\u001b[1;32m----> 7\u001b[0m add()\n",
      "Cell \u001b[1;32mIn[4], line 3\u001b[0m, in \u001b[0;36madd\u001b[1;34m()\u001b[0m\n\u001b[0;32m      2\u001b[0m \u001b[38;5;28;01mdef\u001b[39;00m \u001b[38;5;21madd\u001b[39m():\n\u001b[1;32m----> 3\u001b[0m     c\u001b[38;5;241m=\u001b[39ms\u001b[38;5;241m+\u001b[39m\u001b[38;5;241m10\u001b[39m\n\u001b[0;32m      4\u001b[0m     s\u001b[38;5;241m=\u001b[39mc\n\u001b[0;32m      5\u001b[0m     \u001b[38;5;28mprint\u001b[39m(s)\n",
      "\u001b[1;31mUnboundLocalError\u001b[0m: cannot access local variable 's' where it is not associated with a value"
     ]
    }
   ],
   "source": [
    "s=0\n",
    "def add():\n",
    "    c=s+10\n",
    "    s=c\n",
    "    print(s)\n",
    "\n",
    "add()"
   ]
  },
  {
   "cell_type": "code",
   "execution_count": 6,
   "id": "09e621a7-7caa-42c7-9caa-f1f9acac1610",
   "metadata": {},
   "outputs": [
    {
     "name": "stdout",
     "output_type": "stream",
     "text": [
      "100 200 300\n"
     ]
    }
   ],
   "source": [
    "n1=10\n",
    "def addition():\n",
    "    n1=100\n",
    "    n2=200\n",
    "    n3=n1+n2\n",
    "    print(n1,n2,n3)\n",
    "\n",
    "addition()"
   ]
  },
  {
   "cell_type": "markdown",
   "id": "3227a649-0bc9-4b40-a16e-77d81cc07ee2",
   "metadata": {},
   "source": [
    "**Note**\n",
    "\n",
    "- if we give same variable as global and local\n",
    "\n",
    "- make sure that variable should not use  as value inside the function"
   ]
  },
  {
   "cell_type": "code",
   "execution_count": 8,
   "id": "a9ba8d5b-42a0-417d-ad8c-72607404357e",
   "metadata": {},
   "outputs": [
    {
     "name": "stdout",
     "output_type": "stream",
     "text": [
      "10 110 120\n"
     ]
    }
   ],
   "source": [
    "n11=10\n",
    "def addition():\n",
    "    n21=100+n11\n",
    "    n31=n11+n21\n",
    "    print(n11,n21,n31)\n",
    "\n",
    "addition()\n",
    "#step-1:n11=10\n",
    "#step_2:define the function\n",
    "#step-3: call the function\n",
    "#step-4: run the function\n",
    "#n11 is global variable passing insude the function (yes)\n",
    "#n21=100+10\n",
    "#n31=10+110=120\n",
    "#print(10,110,120)"
   ]
  },
  {
   "cell_type": "code",
   "execution_count": null,
   "id": "0884b2df-d316-4dfb-80a9-4135cfbd13d6",
   "metadata": {},
   "outputs": [],
   "source": [
    "s=0 #global variable\n",
    "def add():\n",
    "    c=s+10\n",
    "    s=c #local variable\n",
    "    print(s)\n",
    "\n",
    "add()\n",
    "#step-1:s=0\n",
    "#step-2:define the function\n",
    "#step-3:call the function\n",
    "#step-4:run the function \n",
    "#c is local variable c=s+10 = c=10\n",
    "#we are creating a new variable same like as global s \n",
    "#we are creating new variable with same name as global variable\n",
    "#by using global variable"
   ]
  },
  {
   "cell_type": "code",
   "execution_count": 9,
   "id": "4bc67498-0d36-43a7-97dc-5a277186d1da",
   "metadata": {},
   "outputs": [
    {
     "name": "stdout",
     "output_type": "stream",
     "text": [
      "Hello\n"
     ]
    }
   ],
   "source": [
    "a=100\n",
    "def greet():\n",
    "    a=200\n",
    "    print('Hello')\n",
    "\n",
    "greet()"
   ]
  },
  {
   "cell_type": "code",
   "execution_count": 10,
   "id": "333e24b2-2195-451a-96b1-4e7a6d46a01a",
   "metadata": {},
   "outputs": [
    {
     "data": {
      "text/plain": [
       "100"
      ]
     },
     "execution_count": 10,
     "metadata": {},
     "output_type": "execute_result"
    }
   ],
   "source": [
    "a"
   ]
  },
  {
   "cell_type": "markdown",
   "id": "d8f6a316-c781-4ad8-876f-a8b310a7d6bc",
   "metadata": {},
   "source": [
    "**Global**\n",
    "\n",
    "- Global key word is used to take the local variable value outside the function\n"
   ]
  },
  {
   "cell_type": "code",
   "execution_count": 13,
   "id": "caf013f4-57a2-4361-9f93-9c9443aaf6dd",
   "metadata": {},
   "outputs": [
    {
     "name": "stdout",
     "output_type": "stream",
     "text": [
      "Hello\n",
      "value: 200\n"
     ]
    }
   ],
   "source": [
    "a=100\n",
    "def greet():\n",
    "    global a\n",
    "    a=200\n",
    "    print('Hello')\n",
    "\n",
    "greet()\n",
    "print('value:',a)\n"
   ]
  },
  {
   "cell_type": "code",
   "execution_count": 12,
   "id": "9f994daf-1242-4e32-97e8-bf590135722c",
   "metadata": {},
   "outputs": [
    {
     "data": {
      "text/plain": [
       "200"
      ]
     },
     "execution_count": 12,
     "metadata": {},
     "output_type": "execute_result"
    }
   ],
   "source": [
    "a"
   ]
  },
  {
   "cell_type": "code",
   "execution_count": 23,
   "id": "bb50d8b3-6f6a-4b46-bb39-5687ddcf0068",
   "metadata": {},
   "outputs": [
    {
     "name": "stdout",
     "output_type": "stream",
     "text": [
      "10 200 210\n",
      "210 200\n"
     ]
    }
   ],
   "source": [
    "n7=10\n",
    "def addition():\n",
    "    global n6,n5\n",
    "    n6=200\n",
    "    n5=n7+n6\n",
    "    print(n7,n6,n5)\n",
    "addition()\n",
    "print(n5,n6)"
   ]
  },
  {
   "cell_type": "code",
   "execution_count": 21,
   "id": "221adbad-515f-4d32-a021-382253128086",
   "metadata": {},
   "outputs": [
    {
     "data": {
      "text/plain": [
       "210"
      ]
     },
     "execution_count": 21,
     "metadata": {},
     "output_type": "execute_result"
    }
   ],
   "source": [
    "n5"
   ]
  },
  {
   "cell_type": "code",
   "execution_count": 22,
   "id": "728e9948-d3b2-4e99-b033-83f4ced52c89",
   "metadata": {},
   "outputs": [
    {
     "data": {
      "text/plain": [
       "200"
      ]
     },
     "execution_count": 22,
     "metadata": {},
     "output_type": "execute_result"
    }
   ],
   "source": [
    "n6"
   ]
  },
  {
   "cell_type": "markdown",
   "id": "d877664c-aa7e-4c1e-b822-71b5443daf5d",
   "metadata": {},
   "source": [
    "- outside the function is called global variables\n",
    "\n",
    "- inside the function is local variable\n",
    "\n",
    "- local variables can not use outside the function\n",
    "\n",
    "- if you want to use outside the function use global keyword"
   ]
  },
  {
   "cell_type": "code",
   "execution_count": 25,
   "id": "dc1c3099-2b91-4c97-95b5-1eb453f15d39",
   "metadata": {},
   "outputs": [
    {
     "name": "stdin",
     "output_type": "stream",
     "text": [
      " 2\n",
      " 3\n"
     ]
    },
    {
     "name": "stdout",
     "output_type": "stream",
     "text": [
      "6\n"
     ]
    }
   ],
   "source": [
    "def mul(a,b):\n",
    "    print(a*b)\n",
    "\n",
    "mul(eval(input()),eval(input()))"
   ]
  },
  {
   "cell_type": "markdown",
   "id": "46175029-3d0a-447c-b81d-8738cdd7434f",
   "metadata": {},
   "source": [
    "**Return**"
   ]
  },
  {
   "cell_type": "markdown",
   "id": "f57af7a6-e0d9-48b7-a153-accbbf175d13",
   "metadata": {},
   "source": [
    "- We ca use local variable or function ouput outside the function using return\n",
    "\n",
    "- print is different\n",
    "\n",
    "- return is different\n",
    "\n",
    "- print is used to only to  print the values\n",
    "\n",
    "- that values you can only see, but you can not use\n",
    "\n",
    "- if you want to use outside we will use return (it is possible by using global)"
   ]
  },
  {
   "cell_type": "code",
   "execution_count": 32,
   "id": "f8024308-16ed-4e74-ab62-ec8e9b3a9d25",
   "metadata": {},
   "outputs": [
    {
     "name": "stdout",
     "output_type": "stream",
     "text": [
      "20.0\n"
     ]
    }
   ],
   "source": [
    "def average():\n",
    "    n1=10\n",
    "    n2=20\n",
    "    n3=30\n",
    "    avg=(n1+n2+n3)/3\n",
    "    print(avg)\n",
    "    return(avg,n3)\n",
    "\n",
    "avg,n3=average()\n",
    "#function is ready to return values to me\n",
    "# so i need to store \n",
    "# how many values we are returning \n",
    "#we will store each return values in different variable\n",
    "#because two values are different\n",
    "# if you use only variable  to store: tuple value"
   ]
  },
  {
   "cell_type": "code",
   "execution_count": 29,
   "id": "f887a506-7611-4dc6-bd43-d6b2a9ed059d",
   "metadata": {},
   "outputs": [
    {
     "data": {
      "text/plain": [
       "20.0"
      ]
     },
     "execution_count": 29,
     "metadata": {},
     "output_type": "execute_result"
    }
   ],
   "source": [
    "avg"
   ]
  },
  {
   "cell_type": "code",
   "execution_count": 33,
   "id": "d8e0fbf3-2d15-48c5-a446-1f1a5c3a55f0",
   "metadata": {},
   "outputs": [
    {
     "data": {
      "text/plain": [
       "30"
      ]
     },
     "execution_count": 33,
     "metadata": {},
     "output_type": "execute_result"
    }
   ],
   "source": [
    "n3"
   ]
  },
  {
   "cell_type": "code",
   "execution_count": 36,
   "id": "95d2726e-f6f8-444b-bce4-11014dd79dfd",
   "metadata": {},
   "outputs": [],
   "source": [
    "def sub():\n",
    "    a=20\n",
    "    b=40\n",
    "    subb=a-b\n",
    "    return(subb)\n",
    "\n",
    "subb=sub()"
   ]
  },
  {
   "cell_type": "code",
   "execution_count": 37,
   "id": "e7123508-881c-4f01-8efa-b4365e1b669a",
   "metadata": {},
   "outputs": [
    {
     "data": {
      "text/plain": [
       "-20"
      ]
     },
     "execution_count": 37,
     "metadata": {},
     "output_type": "execute_result"
    }
   ],
   "source": [
    "subb"
   ]
  },
  {
   "cell_type": "code",
   "execution_count": null,
   "id": "44b883ac-61e7-41f4-986e-5bdeeb090d60",
   "metadata": {},
   "outputs": [],
   "source": [
    "#return is always last line of the code"
   ]
  },
  {
   "cell_type": "markdown",
   "id": "0934eae8-f1d7-4bef-80e7-795449427775",
   "metadata": {},
   "source": [
    "- with out arguments\n",
    "\n",
    "- with arguments\n",
    "\n",
    "- default arguments\n",
    "\n",
    "- local and global \n",
    "\n",
    "- global keyword\n",
    "\n",
    "- return statement\n",
    "\n",
    "- unbounded local error\n",
    "\n",
    "- function in function\n",
    "\n",
    "- kwargs: key argument"
   ]
  },
  {
   "cell_type": "markdown",
   "id": "9a396856-265f-4c45-b9b4-2a445ff6c799",
   "metadata": {},
   "source": [
    "**unbound local error**"
   ]
  },
  {
   "cell_type": "code",
   "execution_count": 3,
   "id": "49ba7791-8a6c-4c53-9b28-bbe07014d2fd",
   "metadata": {},
   "outputs": [
    {
     "name": "stdout",
     "output_type": "stream",
     "text": [
      "inside the function: 100\n",
      "outside the function: 10\n"
     ]
    }
   ],
   "source": [
    "num1=10\n",
    "def fun1():\n",
    "    num1=100\n",
    "    print(\"inside the function:\",num1)\n",
    "\n",
    "fun1()\n",
    "print(\"outside the function:\",num1)"
   ]
  },
  {
   "cell_type": "code",
   "execution_count": 2,
   "id": "ec0879b9-1d47-4554-a913-6471c5c8c032",
   "metadata": {},
   "outputs": [
    {
     "ename": "UnboundLocalError",
     "evalue": "cannot access local variable 'num2' where it is not associated with a value",
     "output_type": "error",
     "traceback": [
      "\u001b[1;31m---------------------------------------------------------------------------\u001b[0m",
      "\u001b[1;31mUnboundLocalError\u001b[0m                         Traceback (most recent call last)",
      "Cell \u001b[1;32mIn[2], line 6\u001b[0m\n\u001b[0;32m      3\u001b[0m     \u001b[38;5;28mprint\u001b[39m(num2)\n\u001b[0;32m      4\u001b[0m     num2\u001b[38;5;241m=\u001b[39m\u001b[38;5;241m100\u001b[39m\n\u001b[1;32m----> 6\u001b[0m fun2()\n",
      "Cell \u001b[1;32mIn[2], line 3\u001b[0m, in \u001b[0;36mfun2\u001b[1;34m()\u001b[0m\n\u001b[0;32m      2\u001b[0m \u001b[38;5;28;01mdef\u001b[39;00m \u001b[38;5;21mfun2\u001b[39m():\n\u001b[1;32m----> 3\u001b[0m     \u001b[38;5;28mprint\u001b[39m(num2)\n\u001b[0;32m      4\u001b[0m     num2\u001b[38;5;241m=\u001b[39m\u001b[38;5;241m100\u001b[39m\n",
      "\u001b[1;31mUnboundLocalError\u001b[0m: cannot access local variable 'num2' where it is not associated with a value"
     ]
    }
   ],
   "source": [
    "num2=10 #global variable\n",
    "def fun2():\n",
    "    print(num2)\n",
    "    num2=100 #local variable\n",
    "\n",
    "fun2()\n",
    "#Name error will come\n",
    "#local variable and global variable  both names are same\n",
    "#you are try to access local variable before assigning it"
   ]
  },
  {
   "cell_type": "code",
   "execution_count": 5,
   "id": "6fdeff57-d457-40db-9e77-1ee5eefaedde",
   "metadata": {},
   "outputs": [
    {
     "name": "stdout",
     "output_type": "stream",
     "text": [
      "300\n"
     ]
    }
   ],
   "source": [
    "a1=100\n",
    "b1=200\n",
    "def add11():\n",
    "    add1=a1+b1\n",
    "    print(add1)\n",
    "\n",
    "add11()\n",
    "#here no local variables as same name as global variable"
   ]
  },
  {
   "cell_type": "code",
   "execution_count": 6,
   "id": "5f8662a7-34ae-43b2-855f-a6f1bca18ac7",
   "metadata": {},
   "outputs": [
    {
     "name": "stdout",
     "output_type": "stream",
     "text": [
      "1700\n"
     ]
    }
   ],
   "source": [
    "a1=100\n",
    "b1=200\n",
    "def add11():\n",
    "    a1=900\n",
    "    b1=800\n",
    "    add1=a1+b1\n",
    "    print(add1)\n",
    "\n",
    "add11()\n",
    "# we are intialising local varibles names as global varible\n",
    "#we are using local varibles after intialization"
   ]
  },
  {
   "cell_type": "code",
   "execution_count": 7,
   "id": "6d0669da-9963-4979-b53f-3aede471cd3b",
   "metadata": {},
   "outputs": [
    {
     "ename": "UnboundLocalError",
     "evalue": "cannot access local variable 'a1' where it is not associated with a value",
     "output_type": "error",
     "traceback": [
      "\u001b[1;31m---------------------------------------------------------------------------\u001b[0m",
      "\u001b[1;31mUnboundLocalError\u001b[0m                         Traceback (most recent call last)",
      "Cell \u001b[1;32mIn[7], line 9\u001b[0m\n\u001b[0;32m      6\u001b[0m     b1\u001b[38;5;241m=\u001b[39m\u001b[38;5;241m900\u001b[39m\n\u001b[0;32m      7\u001b[0m     \u001b[38;5;28mprint\u001b[39m(add1)\n\u001b[1;32m----> 9\u001b[0m add11()\n",
      "Cell \u001b[1;32mIn[7], line 4\u001b[0m, in \u001b[0;36madd11\u001b[1;34m()\u001b[0m\n\u001b[0;32m      3\u001b[0m \u001b[38;5;28;01mdef\u001b[39;00m \u001b[38;5;21madd11\u001b[39m():\n\u001b[1;32m----> 4\u001b[0m     add1\u001b[38;5;241m=\u001b[39ma1\u001b[38;5;241m+\u001b[39mb1\n\u001b[0;32m      5\u001b[0m     a1\u001b[38;5;241m=\u001b[39m\u001b[38;5;241m700\u001b[39m\n\u001b[0;32m      6\u001b[0m     b1\u001b[38;5;241m=\u001b[39m\u001b[38;5;241m900\u001b[39m\n",
      "\u001b[1;31mUnboundLocalError\u001b[0m: cannot access local variable 'a1' where it is not associated with a value"
     ]
    }
   ],
   "source": [
    "a1=100\n",
    "b1=200\n",
    "def add11():\n",
    "    add1=a1+b1\n",
    "    a1=700\n",
    "    b1=900\n",
    "    print(add1)\n",
    "\n",
    "add11()\n",
    "#we are not intialising local variable same as global variable\n",
    "#we are using local variable before intialization"
   ]
  },
  {
   "cell_type": "markdown",
   "id": "e5f9019a-3e24-4757-b4bd-85f39d946b1d",
   "metadata": {},
   "source": [
    "**no error**\n",
    "\n",
    "- here no local variables as same name as global variable\n",
    "\n",
    "-  we are intialising local varibles names as global varible\n",
    "\n",
    "  - we are using local varibles after intialization\n",
    "\n",
    "**error**\n",
    "    \n",
    "- we are not intialising local variable same as global variable\n",
    "\n",
    "   - we are using local variable before intialization"
   ]
  },
  {
   "cell_type": "markdown",
   "id": "34424085-06c1-49ee-8b71-82ebdd1dec3f",
   "metadata": {},
   "source": [
    "**Functions in Functions**"
   ]
  },
  {
   "cell_type": "code",
   "execution_count": 9,
   "id": "81128ed8-a1b9-4a2c-8688-989288ed2e06",
   "metadata": {},
   "outputs": [
    {
     "name": "stdout",
     "output_type": "stream",
     "text": [
      "Hello good morning\n",
      "good night\n"
     ]
    }
   ],
   "source": [
    "def greet1():\n",
    "    print('Hello good morning')\n",
    "\n",
    "\n",
    "def greet2():\n",
    "    print('good night')\n",
    "\n",
    "greet1()\n",
    "greet2()        "
   ]
  },
  {
   "cell_type": "code",
   "execution_count": 12,
   "id": "1f0a1ae2-bf60-465f-b3d9-72b0dcd0b7e6",
   "metadata": {},
   "outputs": [
    {
     "name": "stdout",
     "output_type": "stream",
     "text": [
      "Hello good morning\n",
      "good night\n"
     ]
    }
   ],
   "source": [
    "\n",
    "def greet2():\n",
    "    print('good night')\n",
    "def greet1():\n",
    "    print('Hello good morning')\n",
    "    greet2()\n",
    "greet1()\n",
    " "
   ]
  },
  {
   "cell_type": "code",
   "execution_count": null,
   "id": "31793e4e-7283-454f-b0a6-8b7f5acb3aae",
   "metadata": {},
   "outputs": [],
   "source": [
    "def greet2():\n",
    "    print('good night')\n",
    "    greet1()\n",
    "def greet1():\n",
    "    print('Hello good morning')\n",
    "    greet2()\n",
    "greet1()\n"
   ]
  },
  {
   "cell_type": "code",
   "execution_count": 15,
   "id": "f4f039aa-3ad0-40d3-96b7-2f91606e2b00",
   "metadata": {},
   "outputs": [
    {
     "name": "stdin",
     "output_type": "stream",
     "text": [
      "enter the distance in km: 60\n",
      "enter the distance in km: 25\n"
     ]
    },
    {
     "name": "stdout",
     "output_type": "stream",
     "text": [
      "kudos  to you the chargebke distance is : 35\n"
     ]
    },
    {
     "name": "stdin",
     "output_type": "stream",
     "text": [
      "enter the charge 20\n"
     ]
    },
    {
     "name": "stdout",
     "output_type": "stream",
     "text": [
      "the total charge is : 500\n"
     ]
    }
   ],
   "source": [
    "def distance_ride():\n",
    "    distance=eval(input(\"enter the distance in km:\"))\n",
    "    cutoff_distance=eval(input(\"enter the distance in km:\"))\n",
    "    if distance>cutoff_distance:\n",
    "        chargeble_distance=distance-cutoff_distance\n",
    "        print(\"kudos  to you the chargebke distance is :\",chargeble_distance)\n",
    "        charge=eval(input(\"enter the charge\"))\n",
    "        cost=cutoff_distance*charge\n",
    "        print(\"the total charge is :\",cost)\n",
    "\n",
    "distance_ride()"
   ]
  },
  {
   "cell_type": "code",
   "execution_count": 16,
   "id": "c5361383-00d3-4660-9191-567eff7b71b9",
   "metadata": {},
   "outputs": [
    {
     "name": "stdout",
     "output_type": "stream",
     "text": [
      "good news your charge is aplicable for only remaining of 25\n",
      "the total amount of ride:500\n"
     ]
    }
   ],
   "source": [
    "def distance_travel(distance,cutoff_distance,charge):\n",
    "    if distance>cutoff_distance:\n",
    "        print(\"good news your charge is aplicable for only remaining of 25\")\n",
    "        chargeble_distance=distance-cutoff_distance\n",
    "        cost=cutoff_distance*charge\n",
    "        print(f\"the total amount of ride:{cost}\")\n",
    "\n",
    "distance_travel(40,25,20)"
   ]
  },
  {
   "cell_type": "code",
   "execution_count": 19,
   "id": "bbc09250-f809-4681-9f0d-2f5cac00794a",
   "metadata": {},
   "outputs": [
    {
     "name": "stdout",
     "output_type": "stream",
     "text": [
      "good news your charge is aplicable for only remaining of 25\n",
      "the total amount of ride:125\n"
     ]
    }
   ],
   "source": [
    "def distance_travel(distance,cutoff_distance=25,charge=5):\n",
    "    if distance>cutoff_distance:\n",
    "        print(\"good news your charge is aplicable for only remaining of 25\")\n",
    "        chargeble_distance=distance-cutoff_distance\n",
    "        cost=cutoff_distance*charge\n",
    "        print(f\"the total amount of ride:{cost}\")\n",
    "\n",
    "distance_travel(50)"
   ]
  },
  {
   "cell_type": "code",
   "execution_count": 20,
   "id": "9b500b15-171b-4a10-814b-eaecd2903ca5",
   "metadata": {},
   "outputs": [
    {
     "name": "stdin",
     "output_type": "stream",
     "text": [
      "enter the distance in km: 50\n",
      "enter the distance in km: 25\n"
     ]
    },
    {
     "name": "stdout",
     "output_type": "stream",
     "text": [
      "kudos  to you the chargebke distance is : 25\n"
     ]
    },
    {
     "name": "stdin",
     "output_type": "stream",
     "text": [
      "enter the charge 20\n"
     ]
    },
    {
     "name": "stdout",
     "output_type": "stream",
     "text": [
      "the total charge is : 500\n"
     ]
    }
   ],
   "source": [
    "distance=eval(input(\"enter the distance in km:\"))\n",
    "cutoff_distance=eval(input(\"enter the distance in km:\"))\n",
    "def distance_ride():\n",
    "    if distance>cutoff_distance:\n",
    "        chargeble_distance=distance-cutoff_distance\n",
    "        print(\"kudos  to you the chargebke distance is :\",chargeble_distance)\n",
    "        charge=eval(input(\"enter the charge\"))\n",
    "        cost=cutoff_distance*charge\n",
    "        print(\"the total charge is :\",cost)\n",
    "\n",
    "distance_ride()"
   ]
  },
  {
   "cell_type": "code",
   "execution_count": 23,
   "id": "ef90b6f4-0b1b-493f-a0f0-cba7c516d1df",
   "metadata": {},
   "outputs": [
    {
     "name": "stdin",
     "output_type": "stream",
     "text": [
      "enter the distance in km: 50\n",
      "enter the distance in km: 25\n"
     ]
    },
    {
     "name": "stdout",
     "output_type": "stream",
     "text": [
      "kudos  to you the chargebke distance is : 25\n"
     ]
    },
    {
     "name": "stdin",
     "output_type": "stream",
     "text": [
      "enter the charge 20\n"
     ]
    },
    {
     "name": "stdout",
     "output_type": "stream",
     "text": [
      "the total charge is : 500\n",
      "outside the function cost is: 500\n"
     ]
    }
   ],
   "source": [
    "distance=eval(input(\"enter the distance in km:\"))\n",
    "cutoff_distance=eval(input(\"enter the distance in km:\"))\n",
    "def distance_ride():\n",
    "    if distance>cutoff_distance:\n",
    "        global cost\n",
    "        chargeble_distance=distance-cutoff_distance\n",
    "        print(\"kudos  to you the chargebke distance is :\",chargeble_distance)\n",
    "        charge=eval(input(\"enter the charge\"))\n",
    "        cost=cutoff_distance*charge\n",
    "        print(\"the total charge is :\",cost)\n",
    "\n",
    "distance_ride()\n",
    "print(\"outside the function cost is:\",cost)"
   ]
  },
  {
   "cell_type": "code",
   "execution_count": 22,
   "id": "5f3fcc90-9950-4845-8714-d36906f08a48",
   "metadata": {},
   "outputs": [
    {
     "data": {
      "text/plain": [
       "500"
      ]
     },
     "execution_count": 22,
     "metadata": {},
     "output_type": "execute_result"
    }
   ],
   "source": [
    "cost"
   ]
  },
  {
   "cell_type": "code",
   "execution_count": 27,
   "id": "0c879e64-a437-4975-b91f-2914add08515",
   "metadata": {},
   "outputs": [
    {
     "name": "stdin",
     "output_type": "stream",
     "text": [
      "enter the distance in km: 20\n",
      "enter the distance in km: 25\n"
     ]
    },
    {
     "data": {
      "text/plain": [
       "100"
      ]
     },
     "execution_count": 27,
     "metadata": {},
     "output_type": "execute_result"
    }
   ],
   "source": [
    "distance=eval(input(\"enter the distance in km:\"))\n",
    "cutoff_distance=eval(input(\"enter the distance in km:\"))\n",
    "def total_fare():\n",
    "    if distance>cutoff_distance:\n",
    "        chargeble_distance=distance-cutoff_distance\n",
    "        print(\"kudos  to you the chargebke distance is :\",chargeble_distance)\n",
    "        charge=eval(input(\"enter the charge\"))\n",
    "        cost=cutoff_distance*charge\n",
    "        print(\"the total charge is :\",cost)\n",
    "    \n",
    "    else:\n",
    "        cost=100\n",
    "        return(cost)\n",
    "        \n",
    "        \n",
    "\n",
    "total_fare()\n"
   ]
  },
  {
   "cell_type": "code",
   "execution_count": 35,
   "id": "276b6cca-10c1-47d4-9e28-80faea7008de",
   "metadata": {},
   "outputs": [
    {
     "name": "stdout",
     "output_type": "stream",
     "text": [
      "enter 1 for add\n",
      "enter 2 for sub\n",
      "enter 3 for mul\n",
      "enter 4 for div\n"
     ]
    },
    {
     "name": "stdin",
     "output_type": "stream",
     "text": [
      "enter the numbers in betweeen 1-4 3\n"
     ]
    },
    {
     "name": "stdout",
     "output_type": "stream",
     "text": [
      "156\n"
     ]
    }
   ],
   "source": [
    "#first create 4 individual functions\n",
    "#fun1: add\n",
    "#fun2:sub\n",
    "#fun3: mul\n",
    "#fun4:div\n",
    "#def add(a,b):\n",
    "#    print(a+b)\n",
    "\n",
    "# create a main function name: calculator\n",
    "#inside main function\n",
    "#print some statements\n",
    "#option1:addition\n",
    "#option2: sub, opt3:mul,opt4: div\n",
    "#a value\n",
    "#b valu\n",
    "#if option ==1:\n",
    "#add function\n",
    "#elif opt==2:\n",
    "# sub function\n",
    "#elif option3==3:\n",
    "#mul function\n",
    "#elif opt4==4:\n",
    "# div function\n",
    "\n",
    "def add(a,b):\n",
    "    print(a+b)\n",
    "\n",
    "def sub(a,b):\n",
    "    print(a-b)\n",
    "\n",
    "def mul(a,b):\n",
    "    print(a*b)\n",
    "\n",
    "def div(a,b):\n",
    "    print(a,b)\n",
    "\n",
    "def calculator(a,b):\n",
    "    print('enter 1 for add')\n",
    "    print('enter 2 for sub')\n",
    "    print('enter 3 for mul')\n",
    "    print('enter 4 for div')\n",
    "    option=eval(input(\"enter the numbers in betweeen 1-4\"))           \n",
    "    if option==1:\n",
    "        add(a,b)\n",
    "    elif option==2:\n",
    "        sub(a,b)\n",
    "    elif option==3:\n",
    "        mul(a,b)\n",
    "    elif option==4:\n",
    "        div(a,b)\n",
    "    else:\n",
    "        print('enter valid number')\n",
    "\n",
    "calculator(12,13)\n",
    "\n",
    "\n",
    "\n"
   ]
  },
  {
   "cell_type": "code",
   "execution_count": null,
   "id": "2c7ade44-2646-4b2d-af5e-8e0cdfa9b032",
   "metadata": {},
   "outputs": [],
   "source": []
  }
 ],
 "metadata": {
  "kernelspec": {
   "display_name": "Python 3 (ipykernel)",
   "language": "python",
   "name": "python3"
  },
  "language_info": {
   "codemirror_mode": {
    "name": "ipython",
    "version": 3
   },
   "file_extension": ".py",
   "mimetype": "text/x-python",
   "name": "python",
   "nbconvert_exporter": "python",
   "pygments_lexer": "ipython3",
   "version": "3.11.7"
  }
 },
 "nbformat": 4,
 "nbformat_minor": 5
}
