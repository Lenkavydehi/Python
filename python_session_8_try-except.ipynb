{
 "cells": [
  {
   "cell_type": "markdown",
   "id": "77744a7e-c826-40c7-a4fe-3a6990b54b2d",
   "metadata": {},
   "source": [
    "**try-except**\n",
    "\n",
    "- generally in real time we will write n number of python lines\n",
    "\n",
    "- there is a situation we might get an error , that error might be unknow\n",
    "\n",
    "- this unknow error does not  cause any harm\n",
    "\n",
    "- even though we are getting error we need to proced further\n",
    "\n",
    "- because we already known python is a sequential process\n",
    "\n",
    "- means the lines will execute step by step \n",
    "\n",
    "- suppose you have an error at particular line,the code execution will step at that line only\n",
    "\n",
    "- but you know that error is not harmful\n",
    "\n",
    "- so you want to continue the execution\n",
    "\n",
    "- then we requried try-exception\n",
    "\n",
    "- try-except has two blocks\n",
    "\n",
    "- try block as actual code\n",
    "\n",
    "- except block will catch the error"
   ]
  },
  {
   "cell_type": "code",
   "execution_count": 2,
   "id": "d75a5915-a2d6-4e2f-9c5b-2a3e9ef4986e",
   "metadata": {},
   "outputs": [
    {
     "name": "stdin",
     "output_type": "stream",
     "text": [
      "enter the number1: 20\n",
      "enter the number2: three\n"
     ]
    },
    {
     "name": "stdout",
     "output_type": "stream",
     "text": [
      "hello\n",
      "you are getting error\n",
      "please check the code\n"
     ]
    }
   ],
   "source": [
    "try:\n",
    "    n1=eval(input(\"enter the number1:\"))\n",
    "    n2=eval(input(\"enter the number2:\"))\n",
    "    add=n1+n2\n",
    "    print(add)\n",
    "except:\n",
    "    print('hello')\n",
    "    print(\"you are getting error\")\n",
    "    print(\"please check the code\")\n",
    "            "
   ]
  },
  {
   "cell_type": "markdown",
   "id": "541741ef-b8dc-41d8-bac4-71f098c158a3",
   "metadata": {},
   "source": [
    "**Note**\n",
    "\n",
    "Generally try-except block will use to catch the error"
   ]
  },
  {
   "cell_type": "code",
   "execution_count": 6,
   "id": "d6909a78-2437-4f30-8b23-171e15d55b0c",
   "metadata": {},
   "outputs": [
    {
     "name": "stdin",
     "output_type": "stream",
     "text": [
      "enter the number1: 10\n",
      "enter the number2: 0\n"
     ]
    },
    {
     "name": "stdout",
     "output_type": "stream",
     "text": [
      "the error is division by zero\n"
     ]
    }
   ],
   "source": [
    "try:\n",
    "    n1=eval(input(\"enter the number1:\"))\n",
    "    n2=eval(input(\"enter the number2:\"))\n",
    "    add=n1+n2\n",
    "    mul=n1*n2\n",
    "    div=n1/n2\n",
    "except Exception as e:\n",
    "    print(f\"the error is {e}\")"
   ]
  },
  {
   "cell_type": "code",
   "execution_count": 9,
   "id": "a34762ed-81c0-4e81-8915-813f90336e10",
   "metadata": {},
   "outputs": [
    {
     "name": "stdin",
     "output_type": "stream",
     "text": [
      "enter the number: three\n"
     ]
    },
    {
     "name": "stdout",
     "output_type": "stream",
     "text": [
      "the error is(e)\n"
     ]
    }
   ],
   "source": [
    "# now onwards every code \n",
    "#need  to use try-except\n",
    "try:\n",
    "    num=eval(input(\"enter the number:\"))\n",
    "    if num%2==0:\n",
    "        print(f\"the {num} is even\")\n",
    "    else:\n",
    "        print(f\"the {num} is odd\")\n",
    "except Exception as e:\n",
    "    print(f\"the error is(e)\")\n",
    "    \n",
    "             "
   ]
  },
  {
   "cell_type": "code",
   "execution_count": null,
   "id": "683375b7-1b64-450c-880e-38244a0f0a51",
   "metadata": {},
   "outputs": [],
   "source": []
  }
 ],
 "metadata": {
  "kernelspec": {
   "display_name": "Python 3 (ipykernel)",
   "language": "python",
   "name": "python3"
  },
  "language_info": {
   "codemirror_mode": {
    "name": "ipython",
    "version": 3
   },
   "file_extension": ".py",
   "mimetype": "text/x-python",
   "name": "python",
   "nbconvert_exporter": "python",
   "pygments_lexer": "ipython3",
   "version": "3.11.7"
  }
 },
 "nbformat": 4,
 "nbformat_minor": 5
}
