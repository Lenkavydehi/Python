{
 "cells": [
  {
   "cell_type": "markdown",
   "id": "83f7700f-7fa5-44de-af87-e1fcf4890aaa",
   "metadata": {},
   "source": [
    "**Loops**\n",
    "\n",
    "- Iterate a piece of code untill the condition stisfy\n",
    "\n",
    "- we can run a code normally\n",
    "\n",
    "- we can run a code by using function wrapper(function)\n",
    "\n",
    "- we can run a code multiple times(loops)\n",
    "\n",
    "- we can run a code by using condition (conditions)"
   ]
  },
  {
   "cell_type": "code",
   "execution_count": 1,
   "id": "e5456640-80d4-42db-82ac-a8599f2de2da",
   "metadata": {},
   "outputs": [
    {
     "name": "stdout",
     "output_type": "stream",
     "text": [
      "30\n"
     ]
    }
   ],
   "source": [
    "a=10\n",
    "b=20\n",
    "c=a+b\n",
    "print(c)"
   ]
  },
  {
   "cell_type": "code",
   "execution_count": 7,
   "id": "562bd109-20aa-487a-8a27-26e1dfa5f448",
   "metadata": {},
   "outputs": [
    {
     "name": "stdout",
     "output_type": "stream",
     "text": [
      "30\n"
     ]
    }
   ],
   "source": [
    "if True:\n",
    "    a=10\n",
    "    b=20\n",
    "    c=a+b\n",
    "    print(c)"
   ]
  },
  {
   "cell_type": "code",
   "execution_count": 8,
   "id": "d43bb12a-4a9d-4739-8da1-74b0eaf88459",
   "metadata": {},
   "outputs": [
    {
     "name": "stdout",
     "output_type": "stream",
     "text": [
      "30\n"
     ]
    }
   ],
   "source": [
    "def  add():\n",
    "    if True:\n",
    "        a=10\n",
    "        b=20\n",
    "        c=a+b\n",
    "        print(c)\n",
    "\n",
    "add()"
   ]
  },
  {
   "cell_type": "markdown",
   "id": "0f91123d-94b2-4424-887f-dc440804e5b4",
   "metadata": {},
   "source": [
    "- for loop\n",
    "\n",
    "- while loop\n",
    "\n",
    "- any loop\n",
    "\n",
    "   - intial point to start the loop\n",
    "\n",
    "   - increment or decrement\n",
    "\n",
    "   - condition to stop  the loop"
   ]
  },
  {
   "cell_type": "markdown",
   "id": "fc833c4f-ed1b-4526-a4bb-33b865828096",
   "metadata": {},
   "source": [
    "**for loop**"
   ]
  },
  {
   "cell_type": "markdown",
   "id": "e9b5ac3b-3a79-4071-858b-2b5c400ba4a0",
   "metadata": {},
   "source": [
    "**pattern-1**"
   ]
  },
  {
   "cell_type": "markdown",
   "id": "3b55993a-f0a7-4860-98d4-62d58841e434",
   "metadata": {},
   "source": [
    "**range(stop)**"
   ]
  },
  {
   "cell_type": "code",
   "execution_count": null,
   "id": "29f67347-3a04-4204-a873-c0a8b285ddc2",
   "metadata": {},
   "outputs": [],
   "source": [
    "#syntax\n",
    "for i in range(<value>):\n",
    "    #start write your code"
   ]
  },
  {
   "cell_type": "markdown",
   "id": "da088ede-a7ef-448e-9abf-069cde9c8c09",
   "metadata": {},
   "source": [
    "- whenever you see the word range it belongs to math family\n",
    "\n",
    "- inside range we need to provide one value ex: range(3)\n",
    "\n",
    "- if you provide only one value \n",
    "\n",
    "    - start value=0\n",
    "\n",
    "    -  increment=+1\n",
    "\n",
    "    - last= stop-1\n",
    "\n",
    "- rang(3)\n",
    "\n",
    "   - start value =0\n",
    "\n",
    "   - increment = 1\n",
    "\n",
    "   - last = 3-1 =2\n",
    "\n",
    "   - answers are : 0 1 2\n",
    "\n",
    "**Note**: In python the index always start with zero"
   ]
  },
  {
   "cell_type": "code",
   "execution_count": 4,
   "id": "1a5c9a5c-dc63-48c7-8953-e286f77f0635",
   "metadata": {},
   "outputs": [
    {
     "name": "stdout",
     "output_type": "stream",
     "text": [
      "0\n",
      "1\n",
      "2\n"
     ]
    }
   ],
   "source": [
    "for i in range(3):\n",
    "    print(i)"
   ]
  },
  {
   "cell_type": "code",
   "execution_count": null,
   "id": "85d58747-eb19-4e0a-bd24-0955d81769e3",
   "metadata": {},
   "outputs": [],
   "source": [
    "print(0)\n",
    "print(1)\n",
    "print(2)\n",
    "print(3)\n",
    "print(4)\n",
    "\n",
    "print(i)"
   ]
  },
  {
   "cell_type": "code",
   "execution_count": 5,
   "id": "9bb84348-a9a9-48a3-a30f-93c67e382784",
   "metadata": {},
   "outputs": [
    {
     "name": "stdout",
     "output_type": "stream",
     "text": [
      "hello\n",
      "hello\n",
      "hello\n",
      "hello\n",
      "hello\n"
     ]
    }
   ],
   "source": [
    "# i want to print hello 5 times\n",
    "\n",
    "for i in range(5):\n",
    "    print(\"hello\")"
   ]
  },
  {
   "cell_type": "code",
   "execution_count": 7,
   "id": "629edd56-915b-40da-8cfc-81ac0801e123",
   "metadata": {},
   "outputs": [
    {
     "name": "stdout",
     "output_type": "stream",
     "text": [
      " 74 is even\n"
     ]
    }
   ],
   "source": [
    "# for example \n",
    "# take a random between 1 to 100 \n",
    "#print it is a even number and odd number\n",
    "# you need to generate 3 random number\n",
    "\n",
    "import random\n",
    "num = random.randint(1,100)\n",
    "if  num%2==0:\n",
    "    print(f\" {num} is even\")\n",
    "else:\n",
    "    print(f\"{num} is odd\")\n"
   ]
  },
  {
   "cell_type": "code",
   "execution_count": 3,
   "id": "771a4d37-4790-40ea-b18a-f10591aa63cb",
   "metadata": {},
   "outputs": [
    {
     "name": "stdout",
     "output_type": "stream",
     "text": [
      " 90 is even\n",
      "49 is odd\n",
      "89 is odd\n"
     ]
    }
   ],
   "source": [
    "import random\n",
    "for i in range(3):\n",
    "    num = random.randint(1,100)\n",
    "    if  num%2==0:\n",
    "        print(f\" {num} is even\")\n",
    "    else:\n",
    "        print(f\"{num} is odd\")"
   ]
  },
  {
   "cell_type": "code",
   "execution_count": 4,
   "id": "6aa04ae0-2647-411a-8352-2ce47d346c1e",
   "metadata": {},
   "outputs": [
    {
     "name": "stdout",
     "output_type": "stream",
     "text": [
      "77 is odd\n",
      " 2 is even\n",
      " 40 is even\n"
     ]
    }
   ],
   "source": [
    "import random\n",
    "for i in range(3):\n",
    "    num = random.randint(1,100)\n",
    "    if  num%2==0:\n",
    "         print(f\" {num} is even\")\n",
    "    else:\n",
    "        print(f\"{num} is odd\")"
   ]
  },
  {
   "cell_type": "code",
   "execution_count": 2,
   "id": "b4fb6dc0-8598-433c-ac91-6dfc7db7fe68",
   "metadata": {},
   "outputs": [
    {
     "name": "stdout",
     "output_type": "stream",
     "text": [
      "0 1 2 3 4 5 6 7 8 9 "
     ]
    }
   ],
   "source": [
    "for i in range(10):\n",
    "    print(i,end=' ')\n",
    "    "
   ]
  },
  {
   "cell_type": "code",
   "execution_count": null,
   "id": "e5165fbc-5d37-488a-a39d-a6d52e7aabd3",
   "metadata": {},
   "outputs": [],
   "source": [
    "#step: will seperate multiple values in same print statement\n",
    "#end: combine the multiple print statements\n"
   ]
  },
  {
   "cell_type": "markdown",
   "id": "9da0fe46-f2f3-442f-851b-92af53e70b35",
   "metadata": {},
   "source": [
    "$pattern -2$\n",
    "\n",
    "**range(start,stop)**\n",
    "\n",
    "- range(10,20)\n",
    "\n",
    "  - start value =10\n",
    "\n",
    "   - increment = 1\n",
    "\n",
    "  - last = stop-1 =20-1 =19\n",
    "\n",
    "  - ams: 10 11 12 13 14 15 16 17 19"
   ]
  },
  {
   "cell_type": "code",
   "execution_count": 4,
   "id": "8dea42dc-b28a-480c-81ae-4e256f0454ac",
   "metadata": {},
   "outputs": [
    {
     "name": "stdout",
     "output_type": "stream",
     "text": [
      "10 11 12 13 14 15 16 17 18 19 "
     ]
    }
   ],
   "source": [
    "for i in range(10,20):\n",
    "    print(i,end=' ')\n",
    "    \n"
   ]
  },
  {
   "cell_type": "code",
   "execution_count": 11,
   "id": "f74013e1-4cdd-43f6-b743-0b00db1c1064",
   "metadata": {},
   "outputs": [
    {
     "name": "stdout",
     "output_type": "stream",
     "text": [
      "the square of20 is 400\n",
      "the square of21 is 441\n",
      "the square of22 is 484\n",
      "the square of23 is 529\n",
      "the square of24 is 576\n"
     ]
    }
   ],
   "source": [
    "#wap of the user print the square of the number between \n",
    "#20 to 25\n",
    "\n",
    "for i in range(20,25):\n",
    "    print(f\"the square of{i} is {i*i}\")\n",
    "    "
   ]
  },
  {
   "cell_type": "code",
   "execution_count": 14,
   "id": "019434d3-6c48-4742-942f-db482114ed6d",
   "metadata": {},
   "outputs": [
    {
     "name": "stdout",
     "output_type": "stream",
     "text": [
      "10 is even\n",
      "11 is odd\n",
      "12 is even\n",
      "13 is odd\n",
      "14 is even\n",
      "15 is odd\n",
      "16 is even\n",
      "17 is odd\n",
      "18 is even\n",
      "19 is odd\n"
     ]
    }
   ],
   "source": [
    "# wap ask user print the number is even or odd between 10 to 20\n",
    "\n",
    "for i in range(10,20):\n",
    "    if i%2==0:\n",
    "        print(f\"{i} is even\")\n",
    "    else:\n",
    "        print(f\"{i} is odd\")\n",
    "\n"
   ]
  },
  {
   "cell_type": "markdown",
   "id": "453630c7-7ef4-4f73-85df-b1a20ef1f845",
   "metadata": {},
   "source": [
    "$pattern-3$\n",
    "\n",
    "**range(start,stop,step)**\n",
    "\n",
    "- start value = start values\n",
    "\n",
    "- step value\n",
    "\n",
    "  - postive step value\n",
    "\n",
    "     - if step value is positive : increment\n",
    "\n",
    "     - last = stop-1\n",
    "\n",
    "\n",
    "   - negative step value\n",
    "\n",
    "     - if step value is negative decrement\n",
    "\n",
    "     - last = stop+1"
   ]
  },
  {
   "cell_type": "code",
   "execution_count": 15,
   "id": "676eb40b-2b0f-4a40-876b-789bf0db72cb",
   "metadata": {},
   "outputs": [
    {
     "name": "stdout",
     "output_type": "stream",
     "text": [
      "2 4 6 8 10 12 14 16 18 "
     ]
    }
   ],
   "source": [
    "#case-1:\n",
    "\n",
    "for i in range(2,20,2): #start=2,stop=2,last=20\n",
    "    print(i,end=' ')\n",
    "\n",
    "#step=2\n",
    "#step=+ve -2\n",
    "#last = stop -1=20-1=19\n",
    "#2 4 6 8 10 12 14 16 18"
   ]
  },
  {
   "cell_type": "code",
   "execution_count": 17,
   "id": "4eec5ca9-57e6-49a4-a03f-b73e12d2b9e6",
   "metadata": {},
   "outputs": [],
   "source": [
    "#ccase-2:\n",
    "for i in range(2,20,-2):\n",
    "    print(i,end=' ')\n",
    "\n",
    "#start =2\n",
    "#step=-2 negative direction\n",
    "#last =stop+1=20+1 =21\n",
    "#no answer and no error"
   ]
  },
  {
   "cell_type": "code",
   "execution_count": 18,
   "id": "8531f7fc-87aa-47e6-ba6c-0ce5bba275b7",
   "metadata": {},
   "outputs": [
    {
     "name": "stdout",
     "output_type": "stream",
     "text": [
      "20 18 16 14 12 10 8 6 4 "
     ]
    }
   ],
   "source": [
    "#case-3:\n",
    "for i in range(20,2,-2):\n",
    "    print(i,end=' ')\n",
    "\n",
    "#start=20\n",
    "#step=-2  negative direction\n",
    "#last = stop+1 =2+1=3\n",
    "#20 18 16 14 12 10 8 6 4\n"
   ]
  },
  {
   "cell_type": "code",
   "execution_count": 19,
   "id": "2ed42384-3c3c-42c8-91a1-da4f5d998c2f",
   "metadata": {},
   "outputs": [],
   "source": [
    "#case-4:\n",
    "for i in range(-20,2,-2):\n",
    "    print(i,end=' ')\n",
    "\n",
    "#start = -20\n",
    "#step= -2 negative direction\n",
    "#last = stop+1 =2+1 =3"
   ]
  },
  {
   "cell_type": "code",
   "execution_count": 20,
   "id": "be0b289d-646a-4087-b387-cef73afd877e",
   "metadata": {},
   "outputs": [
    {
     "name": "stdout",
     "output_type": "stream",
     "text": [
      "20 18 16 14 12 10 8 6 4 2 0 -2 "
     ]
    }
   ],
   "source": [
    "for i in range(20,-3,-2):\n",
    "    print(i,end=' ')"
   ]
  },
  {
   "cell_type": "code",
   "execution_count": 7,
   "id": "63d9618b-2f4b-46ce-8542-e3f34c972b2c",
   "metadata": {},
   "outputs": [],
   "source": [
    "for i in range(-20,-3,-2):\n",
    "    print(i,end=' ')\n",
    "\n",
    "# start=-20\n",
    "#step=-2 negative direction\n",
    "#last = stop+1=-3+(-2)=-5"
   ]
  },
  {
   "cell_type": "code",
   "execution_count": 4,
   "id": "9b918c99-dc68-493b-8254-3e1fc5c2032c",
   "metadata": {},
   "outputs": [
    {
     "name": "stdout",
     "output_type": "stream",
     "text": [
      "20 18 16 14 12 10 8 6 4 2 0 -2 "
     ]
    }
   ],
   "source": [
    "for i  in range(20,-3,-2):\n",
    "    print(i,end=' ')\n"
   ]
  },
  {
   "cell_type": "code",
   "execution_count": 6,
   "id": "4f7067a3-a819-406e-b625-0e4ad034c025",
   "metadata": {},
   "outputs": [],
   "source": [
    "for i in range(20,-3,2):\n",
    "    print(i,end=' ')\n",
    "\n",
    "#start=20\n",
    "#step=2 postive direction\n",
    "#last = stop-1====>-3-1=-4"
   ]
  },
  {
   "cell_type": "code",
   "execution_count": 8,
   "id": "58ad2aaa-f571-43fa-aaef-ac641115452e",
   "metadata": {},
   "outputs": [],
   "source": [
    "for i in range(-20,3,-2):\n",
    "    print(i,end=' ')\n",
    "\n",
    "#start=-20\n",
    "#step=-2 negative direction\n",
    "#last= stop+1 =3+(-2)=1\n"
   ]
  },
  {
   "cell_type": "code",
   "execution_count": 9,
   "id": "9fe9a923-d11f-4e0a-a453-ced12e94bbde",
   "metadata": {},
   "outputs": [
    {
     "name": "stdout",
     "output_type": "stream",
     "text": [
      "100 70 40 10 -20 "
     ]
    }
   ],
   "source": [
    "for i in range(100,-40,-30):\n",
    "    print(i,end=' ')"
   ]
  },
  {
   "cell_type": "code",
   "execution_count": 12,
   "id": "4623b805-d2e2-445a-8f4c-e5a5aeede879",
   "metadata": {},
   "outputs": [
    {
     "name": "stdin",
     "output_type": "stream",
     "text": [
      "enter the number 3\n"
     ]
    },
    {
     "name": "stdout",
     "output_type": "stream",
     "text": [
      "the square of the 3 is 9\n"
     ]
    },
    {
     "name": "stdin",
     "output_type": "stream",
     "text": [
      "enter the number 8\n"
     ]
    },
    {
     "name": "stdout",
     "output_type": "stream",
     "text": [
      "the square of the 8 is 64\n"
     ]
    },
    {
     "name": "stdin",
     "output_type": "stream",
     "text": [
      "enter the number 9\n"
     ]
    },
    {
     "name": "stdout",
     "output_type": "stream",
     "text": [
      "the square of the 9 is 81\n"
     ]
    }
   ],
   "source": [
    "#wap of ask the user enter a number three times find the square the number\n",
    "#how many times loop should run\n",
    "\n",
    "for i in range(3):\n",
    "    num=eval(input(\"enter the number\"))\n",
    "    print(f\"the square of the {num} is {num*num}\")\n"
   ]
  },
  {
   "cell_type": "code",
   "execution_count": 18,
   "id": "9aaa8411-39bb-4bcc-b8af-91d900713954",
   "metadata": {},
   "outputs": [
    {
     "name": "stdin",
     "output_type": "stream",
     "text": [
      "enter the which you want to see 14\n"
     ]
    },
    {
     "name": "stdout",
     "output_type": "stream",
     "text": [
      "14*i=14\n",
      "14*i=28\n",
      "14*i=42\n",
      "14*i=56\n",
      "14*i=70\n",
      "14*i=84\n",
      "14*i=98\n",
      "14*i=112\n",
      "14*i=126\n",
      "14*i=140\n"
     ]
    }
   ],
   "source": [
    "#print the 14th table\n",
    "#ans: 14*1=14\n",
    " #    14*2=28\n",
    "\n",
    "\n",
    "#     14*10=140\n",
    "num=eval(input(\"enter the which you want to see\"))\n",
    "for i in range(1,11):\n",
    "    val=i*num\n",
    "    print(f\"{num}*i = {val}\")\n",
    "    \n"
   ]
  },
  {
   "cell_type": "code",
   "execution_count": 24,
   "id": "d92089db-62c2-40c3-abbc-4398438cc4f9",
   "metadata": {},
   "outputs": [
    {
     "name": "stdin",
     "output_type": "stream",
     "text": [
      "enter the number which you want to see the factors 75\n"
     ]
    },
    {
     "name": "stdout",
     "output_type": "stream",
     "text": [
      "1 is division of 75\n",
      "3 is division of 75\n",
      "5 is division of 75\n",
      "15 is division of 75\n",
      "25 is division of 75\n",
      "75 is division of 75\n"
     ]
    }
   ],
   "source": [
    "#find the factors of 75\n",
    "#step-1: iterate the loop = which numbers factors you want\n",
    "#step-2:apply the if condition \n",
    "#     cond=divide the number with each i\n",
    "\n",
    "num=eval(input(\"enter the number which you want to see the factors\"))\n",
    "for i in range(1,num+1):\n",
    "    if num%i==0:\n",
    "        print(f\"{i} is division of {num}\")\n",
    "\n"
   ]
  },
  {
   "cell_type": "code",
   "execution_count": 29,
   "id": "d18f6428-855c-4a04-8652-1c04c238b774",
   "metadata": {},
   "outputs": [
    {
     "name": "stdout",
     "output_type": "stream",
     "text": [
      "0+1=1\n",
      "1+2=3\n",
      "3+3=6\n",
      "6+4=10\n",
      "10+5=15\n",
      "15+6=21\n",
      "21+7=28\n",
      "28+8=36\n",
      "36+9=45\n",
      "45+10=55\n"
     ]
    }
   ],
   "source": [
    "#wap the sum of first 10 natural numbers\n",
    "# 1 to 10\n",
    "#1+2+3+4+5+6+7+8+9+10=55\n",
    "summ=0\n",
    "for i in range(1,11):\n",
    "    summ=summ+i\n",
    "    print(f\"{summ-i}+{i}={summ}\")"
   ]
  },
  {
   "cell_type": "markdown",
   "id": "5591720f-d237-4089-92d6-742129c12167",
   "metadata": {},
   "source": [
    "**summation wrapper**\n",
    "\n",
    "- intially we need to kepp sum = 0\n",
    "\n",
    "- make sure that do not provide **sum**\n",
    "\n",
    "- because sum is a keyword\n",
    "\n",
    "- inside for loop; summ=summ+i\n"
   ]
  },
  {
   "cell_type": "code",
   "execution_count": null,
   "id": "d0f885f2-7888-46c2-9d38-b75257c52391",
   "metadata": {},
   "outputs": [],
   "source": [
    "$syntax$\n",
    "#for loop:\n",
    "  #summ=summ+i\n"
   ]
  },
  {
   "cell_type": "code",
   "execution_count": 31,
   "id": "e6698e4e-e688-44ce-9c08-761e9c157c71",
   "metadata": {},
   "outputs": [
    {
     "name": "stdout",
     "output_type": "stream",
     "text": [
      "0+1=1\n",
      "1+2=3\n",
      "3+3=6\n",
      "6+4=10\n",
      "10+5=15\n",
      "15+6=21\n",
      "21+7=28\n",
      "28+8=36\n",
      "36+9=45\n",
      "45+10=55\n"
     ]
    }
   ],
   "source": [
    "summ=0\n",
    "for i in range(1,11):\n",
    "    val=summ\n",
    "    summ=summ+i\n",
    "    print(f\"{val}+{i}={summ}\")"
   ]
  },
  {
   "cell_type": "markdown",
   "id": "0ec5b542-ff7b-4490-b2f8-cd0034df86fc",
   "metadata": {},
   "source": [
    "**Note**\n",
    "\n",
    "- if we print answers from out of for loop ,last answer will be print"
   ]
  },
  {
   "cell_type": "code",
   "execution_count": 32,
   "id": "3273f265-b12d-4c50-89e3-072d7a231bde",
   "metadata": {},
   "outputs": [
    {
     "name": "stdout",
     "output_type": "stream",
     "text": [
      "0\n",
      "1\n",
      "2\n"
     ]
    },
    {
     "data": {
      "text/plain": [
       "2"
      ]
     },
     "execution_count": 32,
     "metadata": {},
     "output_type": "execute_result"
    }
   ],
   "source": [
    "for i in range(3):\n",
    "    print(i)\n",
    "\n",
    "i"
   ]
  },
  {
   "cell_type": "code",
   "execution_count": 34,
   "id": "6743c347-4b5a-4151-b2e2-76bd3246f117",
   "metadata": {},
   "outputs": [
    {
     "name": "stdin",
     "output_type": "stream",
     "text": [
      "enter the number 10\n"
     ]
    },
    {
     "name": "stdout",
     "output_type": "stream",
     "text": [
      "5.5\n"
     ]
    }
   ],
   "source": [
    "#average of frist 1 to 10 number\n",
    "#avg=summation of all the number/total number\n",
    "#wap to find the average of 'n' numbers\n",
    "summ=0\n",
    "N = eval(input(\"enter the number\"))\n",
    "for i in range(1,N+1):\n",
    "    summ=summ+i\n",
    "print(summ/N)"
   ]
  },
  {
   "cell_type": "markdown",
   "id": "7b5fb298-8043-4499-85c7-3049b39e19d6",
   "metadata": {},
   "source": [
    "**Counter wrapper**\n",
    "\n",
    "-before for loop intilation with count=0\n",
    "                           \n",
    "- under for loop count=count+1\n",
    "\n",
    "- counter always increase by 1 only"
   ]
  },
  {
   "cell_type": "code",
   "execution_count": 1,
   "id": "a29685d8-9078-4e47-86c7-759d3f8b2ab1",
   "metadata": {},
   "outputs": [
    {
     "name": "stdin",
     "output_type": "stream",
     "text": [
      "enter the number 75\n"
     ]
    },
    {
     "name": "stdout",
     "output_type": "stream",
     "text": [
      "the number of divisors for 75 is 6\n"
     ]
    }
   ],
   "source": [
    "# find the numbers of divisors of 75\n",
    "#ans:1,3,,5,15,25,75\n",
    "# number = 6\n",
    "count=0\n",
    "num=eval(input(\"enter the number\"))\n",
    "for i in range(1,num+1):\n",
    "    if num%i==0:\n",
    "        count=count+1\n",
    "\n",
    "print(f'the number of divisors for {num} is {count}')\n"
   ]
  },
  {
   "cell_type": "code",
   "execution_count": null,
   "id": "f6b732c5-1a36-45a5-9ede-015e39afd7be",
   "metadata": {},
   "outputs": [],
   "source": [
    "summ=summ+i======>summ+=i\n",
    "count=count+i====>count+=i"
   ]
  },
  {
   "cell_type": "code",
   "execution_count": 41,
   "id": "b4f97c21-2f16-4461-8b7c-28f7b226db3f",
   "metadata": {},
   "outputs": [
    {
     "name": "stdin",
     "output_type": "stream",
     "text": [
      "enter the number 5\n"
     ]
    },
    {
     "name": "stdout",
     "output_type": "stream",
     "text": [
      "fail\n"
     ]
    },
    {
     "name": "stdin",
     "output_type": "stream",
     "text": [
      "enter the number 7\n"
     ]
    },
    {
     "name": "stdout",
     "output_type": "stream",
     "text": [
      "fail\n"
     ]
    },
    {
     "name": "stdin",
     "output_type": "stream",
     "text": [
      "enter the number 8\n"
     ]
    },
    {
     "name": "stdout",
     "output_type": "stream",
     "text": [
      "fail\n"
     ]
    }
   ],
   "source": [
    "# get a random number between 1 to 10 : num1\n",
    "#ask the user enter the number :num2\n",
    "#if num1==num2 then print won\n",
    "#else print fail\n",
    "#give 3 chances\n",
    "import random\n",
    "for i in range(3):\n",
    "    num1=random.randint(1,10)\n",
    "    num2=eval(input(\"enter the number\"))\n",
    "    if num1==num2:\n",
    "        print('won')\n",
    "    else:\n",
    "        print('fail')"
   ]
  },
  {
   "cell_type": "code",
   "execution_count": 42,
   "id": "6df375e9-2565-482c-b70a-95b195d9e1b6",
   "metadata": {},
   "outputs": [
    {
     "name": "stdin",
     "output_type": "stream",
     "text": [
      "enter the number 2\n"
     ]
    },
    {
     "name": "stdout",
     "output_type": "stream",
     "text": [
      "fail\n"
     ]
    },
    {
     "name": "stdin",
     "output_type": "stream",
     "text": [
      "enter the number 3\n"
     ]
    },
    {
     "name": "stdout",
     "output_type": "stream",
     "text": [
      "fail\n"
     ]
    },
    {
     "name": "stdin",
     "output_type": "stream",
     "text": [
      "enter the number 6\n"
     ]
    },
    {
     "name": "stdout",
     "output_type": "stream",
     "text": [
      "fail\n"
     ]
    }
   ],
   "source": [
    "#case-2:\n",
    "import random\n",
    "for i in range(3):\n",
    "    num1=random.randint(1,10)\n",
    "    num2=eval(input(\"enter the number\"))\n",
    "    if num1==num2:\n",
    "        print('won')\n",
    "        break\n",
    "    else:\n",
    "        print('fail')"
   ]
  },
  {
   "cell_type": "code",
   "execution_count": 5,
   "id": "8edaa8f2-c72b-402c-a0da-f130939d5e53",
   "metadata": {},
   "outputs": [
    {
     "name": "stdin",
     "output_type": "stream",
     "text": [
      "enter the number: 6\n"
     ]
    },
    {
     "name": "stdout",
     "output_type": "stream",
     "text": [
      "lost\n",
      "you have 4 chance will left\n"
     ]
    },
    {
     "name": "stdin",
     "output_type": "stream",
     "text": [
      "enter the number: 7\n"
     ]
    },
    {
     "name": "stdout",
     "output_type": "stream",
     "text": [
      "lost\n",
      "you have 3 chance will left\n"
     ]
    },
    {
     "name": "stdin",
     "output_type": "stream",
     "text": [
      "enter the number: 9\n"
     ]
    },
    {
     "name": "stdout",
     "output_type": "stream",
     "text": [
      "lost\n",
      "you have 2 chance will left\n"
     ]
    },
    {
     "name": "stdin",
     "output_type": "stream",
     "text": [
      "enter the number: 10\n"
     ]
    },
    {
     "name": "stdout",
     "output_type": "stream",
     "text": [
      "lost\n",
      "you have 1 chance will left\n",
      "you execeed the 4 chances please try after 24 hours\n"
     ]
    }
   ],
   "source": [
    "# case-3:\n",
    "#suppose i want to give 4 chances\n",
    "#every time you fail i want to display number of chances left\n",
    "#    number of chances left\n",
    "#if all the chances you are used\n",
    "#  try again after 24 hours\n",
    "#if you are win\n",
    "import random\n",
    "count=0\n",
    "for i in range(4):\n",
    "    num1=random.randint(1,10)\n",
    "    num2=eval(input(\"enter the number:\"))\n",
    "    if num1==num2:\n",
    "        print('won')\n",
    "        break\n",
    "    else :\n",
    "        print('lost')\n",
    "        count=+i\n",
    "        print(f\"you have {4-count} chance will left\")\n",
    "else:\n",
    "    print(f'you execeed the 4 chances please try after 24 hours')\n",
    "\n",
    "\n",
    "\n",
    "    \n",
    "    \n",
    "        \n"
   ]
  },
  {
   "cell_type": "code",
   "execution_count": 7,
   "id": "cdddd1b3-fcad-4607-8151-5ce75e264e68",
   "metadata": {},
   "outputs": [
    {
     "name": "stdout",
     "output_type": "stream",
     "text": [
      "count the number of even number 3\n",
      "count the number of odd number 2\n"
     ]
    }
   ],
   "source": [
    "#wap ask the user get 5 random numbers\n",
    "#get it is the even number ar odd number\n",
    "#also count how many even numbers are there\n",
    "#and count how many odd numbers are there\n",
    "\n",
    "#summation \n",
    "#summ=summ+\n",
    "#count=count+1\n",
    "#idea\n",
    "#take two counters one even and odd count\n",
    "#for loop 5 times\n",
    "#each time take the random number\n",
    "#if condition\n",
    "#    true counter update\n",
    "#else\n",
    "#  update the counter\n",
    "import random\n",
    "even_count,odd_count=0,0\n",
    "for i in range(5):\n",
    "    num=random.randint(1,100)\n",
    "    if num%2==0:\n",
    "        even_count=even_count+1\n",
    "    else:\n",
    "        odd_count=odd_count+1\n",
    "print(f\"count the number of even number {even_count}\")\n",
    "print(f'count the number of odd number {odd_count}')\n",
    "\n"
   ]
  },
  {
   "cell_type": "code",
   "execution_count": 8,
   "id": "b32a6b09-4fec-4e9a-b061-0633920cf0da",
   "metadata": {},
   "outputs": [
    {
     "name": "stdout",
     "output_type": "stream",
     "text": [
      "the number of even numbers are: 6\n",
      "the number of odd numbers are:4\n"
     ]
    }
   ],
   "source": [
    "import random\n",
    "even_summ,odd_summ=0,0\n",
    "for i in range(5):\n",
    "    num=random.randint(1,100)\n",
    "    if num%2==0:\n",
    "        even_summ=even_summ+i\n",
    "    else:\n",
    "        odd_summ=odd_summ+i\n",
    "\n",
    "print(f\"the number of even numbers are: {even_summ}\")\n",
    "print(f\"the number of odd numbers are:{odd_summ}\")"
   ]
  },
  {
   "cell_type": "code",
   "execution_count": 9,
   "id": "aa5e4623-aa24-4594-a5fe-5d5a8b01fb73",
   "metadata": {},
   "outputs": [
    {
     "name": "stdout",
     "output_type": "stream",
     "text": [
      "count the number of even number 1\n",
      "count the number of odd number 4\n",
      "the number of even numbers are: 30\n",
      "the number of odd numbers are:254\n"
     ]
    }
   ],
   "source": [
    "import random\n",
    "even_count,odd_count=0,0\n",
    "even_summ,odd_summ=0,0\n",
    "for i in range(5):\n",
    "    num=random.randint(1,100)\n",
    "    if num%2==0:\n",
    "        even_count=even_count+1\n",
    "        even_summ=even_summ+num\n",
    "    else:\n",
    "        odd_count=odd_count+1\n",
    "        odd_summ=odd_summ+num\n",
    "print(f\"count the number of even number {even_count}\")\n",
    "print(f'count the number of odd number {odd_count}')\n",
    "print(f\"the number of even numbers are: {even_summ}\")\n",
    "print(f\"the number of odd numbers are:{odd_summ}\")"
   ]
  },
  {
   "cell_type": "code",
   "execution_count": 15,
   "id": "7a3c6389-8a02-47bc-bb6a-c345c8e45213",
   "metadata": {},
   "outputs": [
    {
     "ename": "NameError",
     "evalue": "name 'even_odd1' is not defined",
     "output_type": "error",
     "traceback": [
      "\u001b[1;31m---------------------------------------------------------------------------\u001b[0m",
      "\u001b[1;31mNameError\u001b[0m                                 Traceback (most recent call last)",
      "Cell \u001b[1;32mIn[15], line 20\u001b[0m\n\u001b[0;32m     17\u001b[0m             odd_summ\u001b[38;5;241m=\u001b[39modd_summ\u001b[38;5;241m+\u001b[39mnum\n\u001b[0;32m     18\u001b[0m     \u001b[38;5;28;01mreturn\u001b[39;00m(even_count,odd_count,even_summ,odd_summ)\n\u001b[1;32m---> 20\u001b[0m even_count,even_summ,odd_count,odd_summ\u001b[38;5;241m=\u001b[39meven_odd1()\n\u001b[0;32m     21\u001b[0m \u001b[38;5;28mprint\u001b[39m(\u001b[38;5;124mf\u001b[39m\u001b[38;5;124m\"\u001b[39m\u001b[38;5;124mcount the number of even number \u001b[39m\u001b[38;5;132;01m{\u001b[39;00meven_count\u001b[38;5;132;01m}\u001b[39;00m\u001b[38;5;124m\"\u001b[39m)\n\u001b[0;32m     22\u001b[0m \u001b[38;5;28mprint\u001b[39m(\u001b[38;5;124mf\u001b[39m\u001b[38;5;124m'\u001b[39m\u001b[38;5;124mcount the number of odd number \u001b[39m\u001b[38;5;132;01m{\u001b[39;00modd_count\u001b[38;5;132;01m}\u001b[39;00m\u001b[38;5;124m'\u001b[39m)\n",
      "\u001b[1;31mNameError\u001b[0m: name 'even_odd1' is not defined"
     ]
    }
   ],
   "source": [
    "#create a function on above code\n",
    "#return all 4\n",
    "#print all 4\n",
    "import random\n",
    "def even_odd():\n",
    "    even_count,odd_count=0,0\n",
    "    even_summ,odd_summ=0,0\n",
    "\n",
    "    for i in range(5):\n",
    "        num=random.randint(1,100)\n",
    "        if num%2==0:\n",
    "            even_count=even_count+1\n",
    "            even_summ=even_summ+num\n",
    "            \n",
    "        else:\n",
    "            odd_count=odd_count+1\n",
    "            odd_summ=odd_summ+num\n",
    "    return(even_count,odd_count,even_summ,odd_summ)\n",
    "    \n",
    "even_count,even_summ,odd_count,odd_summ=even_odd1()\n",
    "print(f\"count the number of even number {even_count}\")\n",
    "print(f'count the number of odd number {odd_count}')\n",
    "print(f\"the number of even numbers are: {even_summ}\")\n",
    "print(f\"the number of odd numbers are:{odd_summ}\")\n"
   ]
  },
  {
   "cell_type": "markdown",
   "id": "63c164d4-107e-4582-a3a1-a77bd532d1db",
   "metadata": {},
   "source": [
    "**in  operator**"
   ]
  },
  {
   "cell_type": "code",
   "execution_count": 20,
   "id": "35185a38-ac09-4dcb-8f18-b46b462abf00",
   "metadata": {},
   "outputs": [
    {
     "data": {
      "text/plain": [
       "True"
      ]
     },
     "execution_count": 20,
     "metadata": {},
     "output_type": "execute_result"
    }
   ],
   "source": [
    "string1='python'\n",
    "'p' in string1\n",
    "'y' in string1\n",
    "'t' in string1\n",
    "\n"
   ]
  },
  {
   "cell_type": "code",
   "execution_count": 22,
   "id": "07f968b6-e4cc-45b0-9d77-ef91c940419f",
   "metadata": {},
   "outputs": [
    {
     "name": "stdout",
     "output_type": "stream",
     "text": [
      "p\n",
      "y\n",
      "t\n",
      "h\n",
      "o\n",
      "n\n"
     ]
    }
   ],
   "source": [
    "for i in string1:\n",
    "    print(i)"
   ]
  },
  {
   "cell_type": "code",
   "execution_count": 24,
   "id": "50d63db3-a4c7-4831-b23b-8eb1f07014c8",
   "metadata": {},
   "outputs": [
    {
     "ename": "TypeError",
     "evalue": "'str' object cannot be interpreted as an integer",
     "output_type": "error",
     "traceback": [
      "\u001b[1;31m---------------------------------------------------------------------------\u001b[0m",
      "\u001b[1;31mTypeError\u001b[0m                                 Traceback (most recent call last)",
      "Cell \u001b[1;32mIn[24], line 1\u001b[0m\n\u001b[1;32m----> 1\u001b[0m \u001b[38;5;28;01mfor\u001b[39;00m i \u001b[38;5;129;01min\u001b[39;00m \u001b[38;5;28mrange\u001b[39m(string1):\n\u001b[0;32m      2\u001b[0m     \u001b[38;5;28mprint\u001b[39m(i)\n",
      "\u001b[1;31mTypeError\u001b[0m: 'str' object cannot be interpreted as an integer"
     ]
    }
   ],
   "source": [
    "for i in range(string1):\n",
    "    print(i)"
   ]
  },
  {
   "cell_type": "markdown",
   "id": "8b8aca79-b0b2-45b1-8d18-cb96a00bc029",
   "metadata": {},
   "source": [
    "**Difference between in operation and range operator**\n",
    "\n",
    "- range belongs to math family\n",
    "\n",
    "- inside range we need to keep numbers only\n",
    "\n",
    "- whenever if we wnat iterate through a english letters\n",
    "\n",
    "- we need to choose in operator \n",
    "\n",
    "- range means numbers\n",
    "\n",
    "- in means string"
   ]
  },
  {
   "cell_type": "code",
   "execution_count": 28,
   "id": "9651d0ff-1657-4a0f-a25e-8714a0c9f8cd",
   "metadata": {},
   "outputs": [
    {
     "data": {
      "text/plain": [
       "True"
      ]
     },
     "execution_count": 28,
     "metadata": {},
     "output_type": "execute_result"
    }
   ],
   "source": [
    "'p' > 'P'"
   ]
  },
  {
   "cell_type": "markdown",
   "id": "0ad51fb6-9781-44e6-9c1b-ff8c29285885",
   "metadata": {},
   "source": [
    "- every english letter\n",
    "\n",
    "- every spl charcters how machine will understand?\n",
    "\n",
    "- machine language always consider as numbers\n",
    "\n",
    "- every non numeric assign a number\n",
    "\n",
    "- ASCII: American standard code for information interchange\n",
    "                               \n",
    "- A:65; a=97"
   ]
  },
  {
   "cell_type": "markdown",
   "id": "00278300-c99e-48d4-878c-309069200659",
   "metadata": {},
   "source": [
    "**ord-chr**"
   ]
  },
  {
   "cell_type": "code",
   "execution_count": null,
   "id": "cedfeb80-ca80-4c2b-bf89-3a5789791b94",
   "metadata": {},
   "outputs": [],
   "source": [
    "A==65==0b1000001"
   ]
  },
  {
   "cell_type": "code",
   "execution_count": 30,
   "id": "110f7f20-0f67-4727-917e-ccd7d68dcd66",
   "metadata": {},
   "outputs": [
    {
     "data": {
      "text/plain": [
       "65"
      ]
     },
     "execution_count": 30,
     "metadata": {},
     "output_type": "execute_result"
    }
   ],
   "source": [
    "0b1000001"
   ]
  },
  {
   "cell_type": "code",
   "execution_count": 31,
   "id": "c020bb54-2555-45b4-a466-45f8e678354f",
   "metadata": {},
   "outputs": [
    {
     "data": {
      "text/plain": [
       "(65, 97)"
      ]
     },
     "execution_count": 31,
     "metadata": {},
     "output_type": "execute_result"
    }
   ],
   "source": [
    "ord('A'),ord('a')"
   ]
  },
  {
   "cell_type": "code",
   "execution_count": 32,
   "id": "9f4c4e5d-eca1-4d24-91ba-e56f443eeb3d",
   "metadata": {},
   "outputs": [
    {
     "data": {
      "text/plain": [
       "(112, 80)"
      ]
     },
     "execution_count": 32,
     "metadata": {},
     "output_type": "execute_result"
    }
   ],
   "source": [
    "ord('p'),ord('P')"
   ]
  },
  {
   "cell_type": "code",
   "execution_count": null,
   "id": "db986e9c-5eb9-4d87-bb07-f1d5fa0c8994",
   "metadata": {},
   "outputs": [],
   "source": [
    "'p'>'P'#112>80"
   ]
  },
  {
   "cell_type": "code",
   "execution_count": 33,
   "id": "088ec886-dd52-418e-9f9e-9fef6a43b1f4",
   "metadata": {},
   "outputs": [
    {
     "data": {
      "text/plain": [
       "'p'"
      ]
     },
     "execution_count": 33,
     "metadata": {},
     "output_type": "execute_result"
    }
   ],
   "source": [
    "chr(112)"
   ]
  },
  {
   "cell_type": "code",
   "execution_count": 34,
   "id": "4347288f-d1ce-47ad-99ef-a457cb39ed3c",
   "metadata": {},
   "outputs": [
    {
     "data": {
      "text/plain": [
       "'P'"
      ]
     },
     "execution_count": 34,
     "metadata": {},
     "output_type": "execute_result"
    }
   ],
   "source": [
    "chr(80)"
   ]
  },
  {
   "cell_type": "code",
   "execution_count": 35,
   "id": "6b73dd37-67ec-46b1-b597-2308ec77389c",
   "metadata": {},
   "outputs": [
    {
     "data": {
      "text/plain": [
       "'A'"
      ]
     },
     "execution_count": 35,
     "metadata": {},
     "output_type": "execute_result"
    }
   ],
   "source": [
    "chr(65)"
   ]
  },
  {
   "cell_type": "code",
   "execution_count": 36,
   "id": "c257e502-1271-412e-9e40-ada6644850ec",
   "metadata": {},
   "outputs": [
    {
     "data": {
      "text/plain": [
       "'-'"
      ]
     },
     "execution_count": 36,
     "metadata": {},
     "output_type": "execute_result"
    }
   ],
   "source": [
    "chr(45)"
   ]
  },
  {
   "cell_type": "code",
   "execution_count": 37,
   "id": "f8d81596-2d1f-4f0c-9424-56a3df84afdb",
   "metadata": {},
   "outputs": [
    {
     "data": {
      "text/plain": [
       "'d'"
      ]
     },
     "execution_count": 37,
     "metadata": {},
     "output_type": "execute_result"
    }
   ],
   "source": [
    "chr(100)"
   ]
  },
  {
   "cell_type": "code",
   "execution_count": 38,
   "id": "9f018652-4a64-4ccb-90a2-a6784e79c348",
   "metadata": {},
   "outputs": [
    {
     "data": {
      "text/plain": [
       "('p', 'd', 'Ā', 'Y')"
      ]
     },
     "execution_count": 38,
     "metadata": {},
     "output_type": "execute_result"
    }
   ],
   "source": [
    "chr(112),chr(100),chr(256),chr(89)"
   ]
  },
  {
   "cell_type": "code",
   "execution_count": 41,
   "id": "f5d36de1-8675-4b6d-90db-6946e802ca1e",
   "metadata": {},
   "outputs": [
    {
     "name": "stdout",
     "output_type": "stream",
     "text": [
      " the ascii number for p is 112\n",
      " the ascii number for y is 121\n",
      " the ascii number for t is 116\n",
      " the ascii number for h is 104\n",
      " the ascii number for o is 111\n",
      " the ascii number for n is 110\n"
     ]
    }
   ],
   "source": [
    "#i want string1:'python'\n",
    "#print all ascii numbers for python\n",
    "for i in 'python':\n",
    "    print(f\" the ascii number for {i} is {ord(i)}\")"
   ]
  },
  {
   "cell_type": "code",
   "execution_count": 48,
   "id": "55750771-ed0d-443e-87e7-16fd0f5cca3d",
   "metadata": {},
   "outputs": [
    {
     "name": "stdout",
     "output_type": "stream",
     "text": [
      " the summation is 674\n"
     ]
    }
   ],
   "source": [
    "ascii_summ=0\n",
    "for i in 'python':\n",
    "    ascii_summ=ascii_summ+ord(i)\n",
    "print(f\" the summation is {ascii_summ}\")"
   ]
  },
  {
   "cell_type": "code",
   "execution_count": 50,
   "id": "c72adf57-661e-4b4e-b68f-f6a1f9c149a0",
   "metadata": {},
   "outputs": [
    {
     "name": "stdout",
     "output_type": "stream",
     "text": [
      " the ascii numbers for A is 65\n",
      " the ascii numbers for   is 32\n",
      " the ascii numbers for t is 116\n",
      " the ascii numbers for o is 111\n",
      " the ascii numbers for   is 32\n",
      " the ascii numbers for Z is 90\n"
     ]
    }
   ],
   "source": [
    "# I want to know all ascii number from A to Z\n",
    "for i in 'A to Z':\n",
    "    print(f\" the ascii numbers for {i} is {ord(i)}\")"
   ]
  },
  {
   "cell_type": "code",
   "execution_count": 51,
   "id": "b278db76-685b-498e-bde7-27f26d93cef5",
   "metadata": {},
   "outputs": [],
   "source": [
    "# package called :string\n",
    "#import the package\n",
    "#apply the dir\n",
    "#there are some methods are there\n",
    "#in that one method will capital letters\n",
    "\n",
    "#step-1:import <pakage_name>\n",
    "#step-2:dir(<package_name>)\n",
    "#step-3:identify the method\n",
    "\n",
    "import string"
   ]
  },
  {
   "cell_type": "code",
   "execution_count": 52,
   "id": "7d881ab9-17a1-45ff-b9b4-0e9a266c448f",
   "metadata": {},
   "outputs": [
    {
     "data": {
      "text/plain": [
       "['Formatter',\n",
       " 'Template',\n",
       " '_ChainMap',\n",
       " '__all__',\n",
       " '__builtins__',\n",
       " '__cached__',\n",
       " '__doc__',\n",
       " '__file__',\n",
       " '__loader__',\n",
       " '__name__',\n",
       " '__package__',\n",
       " '__spec__',\n",
       " '_re',\n",
       " '_sentinel_dict',\n",
       " '_string',\n",
       " 'ascii_letters',\n",
       " 'ascii_lowercase',\n",
       " 'ascii_uppercase',\n",
       " 'capwords',\n",
       " 'digits',\n",
       " 'hexdigits',\n",
       " 'octdigits',\n",
       " 'printable',\n",
       " 'punctuation',\n",
       " 'whitespace']"
      ]
     },
     "execution_count": 52,
     "metadata": {},
     "output_type": "execute_result"
    }
   ],
   "source": [
    "dir(string)"
   ]
  },
  {
   "cell_type": "code",
   "execution_count": 53,
   "id": "c174fdd9-af7c-4a17-b62f-e0d9b89e3a34",
   "metadata": {},
   "outputs": [
    {
     "data": {
      "text/plain": [
       "'abcdefghijklmnopqrstuvwxyzABCDEFGHIJKLMNOPQRSTUVWXYZ'"
      ]
     },
     "execution_count": 53,
     "metadata": {},
     "output_type": "execute_result"
    }
   ],
   "source": [
    "import string\n",
    "string.ascii_letters"
   ]
  },
  {
   "cell_type": "code",
   "execution_count": 58,
   "id": "f1fa8a94-2e4d-4882-aa97-f32b81e61c55",
   "metadata": {},
   "outputs": [
    {
     "name": "stdout",
     "output_type": "stream",
     "text": [
      " the ascii numbers for a is 97\n",
      " the ascii numbers for b is 98\n",
      " the ascii numbers for c is 99\n",
      " the ascii numbers for d is 100\n",
      " the ascii numbers for e is 101\n",
      " the ascii numbers for f is 102\n",
      " the ascii numbers for g is 103\n",
      " the ascii numbers for h is 104\n",
      " the ascii numbers for i is 105\n",
      " the ascii numbers for j is 106\n",
      " the ascii numbers for k is 107\n",
      " the ascii numbers for l is 108\n",
      " the ascii numbers for m is 109\n",
      " the ascii numbers for n is 110\n",
      " the ascii numbers for o is 111\n",
      " the ascii numbers for p is 112\n",
      " the ascii numbers for q is 113\n",
      " the ascii numbers for r is 114\n",
      " the ascii numbers for s is 115\n",
      " the ascii numbers for t is 116\n",
      " the ascii numbers for u is 117\n",
      " the ascii numbers for v is 118\n",
      " the ascii numbers for w is 119\n",
      " the ascii numbers for x is 120\n",
      " the ascii numbers for y is 121\n",
      " the ascii numbers for z is 122\n",
      " the ascii numbers for A is 65\n",
      " the ascii numbers for B is 66\n",
      " the ascii numbers for C is 67\n",
      " the ascii numbers for D is 68\n",
      " the ascii numbers for E is 69\n",
      " the ascii numbers for F is 70\n",
      " the ascii numbers for G is 71\n",
      " the ascii numbers for H is 72\n",
      " the ascii numbers for I is 73\n",
      " the ascii numbers for J is 74\n",
      " the ascii numbers for K is 75\n",
      " the ascii numbers for L is 76\n",
      " the ascii numbers for M is 77\n",
      " the ascii numbers for N is 78\n",
      " the ascii numbers for O is 79\n",
      " the ascii numbers for P is 80\n",
      " the ascii numbers for Q is 81\n",
      " the ascii numbers for R is 82\n",
      " the ascii numbers for S is 83\n",
      " the ascii numbers for T is 84\n",
      " the ascii numbers for U is 85\n",
      " the ascii numbers for V is 86\n",
      " the ascii numbers for W is 87\n",
      " the ascii numbers for X is 88\n",
      " the ascii numbers for Y is 89\n",
      " the ascii numbers for Z is 90\n"
     ]
    }
   ],
   "source": [
    "import string\n",
    "letters=string.ascii_letters\n",
    "for i in letters:\n",
    "    print(f\" the ascii numbers for {i} is {ord(i)}\")"
   ]
  },
  {
   "cell_type": "code",
   "execution_count": 59,
   "id": "13e4f167-fa67-4dca-af94-4f7067543f10",
   "metadata": {},
   "outputs": [
    {
     "name": "stdout",
     "output_type": "stream",
     "text": [
      " the ascii numbers for A is 65\n",
      " the ascii numbers for B is 66\n",
      " the ascii numbers for C is 67\n",
      " the ascii numbers for D is 68\n",
      " the ascii numbers for E is 69\n",
      " the ascii numbers for F is 70\n",
      " the ascii numbers for G is 71\n",
      " the ascii numbers for H is 72\n",
      " the ascii numbers for I is 73\n",
      " the ascii numbers for J is 74\n",
      " the ascii numbers for K is 75\n",
      " the ascii numbers for L is 76\n",
      " the ascii numbers for M is 77\n",
      " the ascii numbers for N is 78\n",
      " the ascii numbers for O is 79\n",
      " the ascii numbers for P is 80\n",
      " the ascii numbers for Q is 81\n",
      " the ascii numbers for R is 82\n",
      " the ascii numbers for S is 83\n",
      " the ascii numbers for T is 84\n",
      " the ascii numbers for U is 85\n",
      " the ascii numbers for V is 86\n",
      " the ascii numbers for W is 87\n",
      " the ascii numbers for X is 88\n",
      " the ascii numbers for Y is 89\n",
      " the ascii numbers for Z is 90\n"
     ]
    }
   ],
   "source": [
    "import string\n",
    "letters=string.ascii_uppercase\n",
    "for i in letters:\n",
    "    print(f\" the ascii numbers for {i} is {ord(i)}\")"
   ]
  },
  {
   "cell_type": "code",
   "execution_count": 60,
   "id": "d25049c5-187a-47fe-9e8e-718b506ec17c",
   "metadata": {},
   "outputs": [
    {
     "data": {
      "text/plain": [
       "' \\t\\n\\r\\x0b\\x0c'"
      ]
     },
     "execution_count": 60,
     "metadata": {},
     "output_type": "execute_result"
    }
   ],
   "source": [
    "string.whitespace"
   ]
  },
  {
   "cell_type": "code",
   "execution_count": 61,
   "id": "a9611ee5-98f4-472b-8bcb-bc6534dea5f3",
   "metadata": {},
   "outputs": [
    {
     "data": {
      "text/plain": [
       "'0123456789'"
      ]
     },
     "execution_count": 61,
     "metadata": {},
     "output_type": "execute_result"
    }
   ],
   "source": [
    "string.digits"
   ]
  },
  {
   "cell_type": "code",
   "execution_count": 63,
   "id": "887a040f-1267-40a8-865d-f4af24455e3a",
   "metadata": {},
   "outputs": [
    {
     "name": "stdout",
     "output_type": "stream",
     "text": [
      " the special charcters in ! is 33\n",
      " the special charcters in \" is 34\n",
      " the special charcters in # is 35\n",
      " the special charcters in $ is 36\n",
      " the special charcters in % is 37\n",
      " the special charcters in & is 38\n",
      " the special charcters in ' is 39\n",
      " the special charcters in ( is 40\n",
      " the special charcters in ) is 41\n",
      " the special charcters in * is 42\n",
      " the special charcters in + is 43\n",
      " the special charcters in , is 44\n",
      " the special charcters in - is 45\n",
      " the special charcters in . is 46\n",
      " the special charcters in / is 47\n",
      " the special charcters in : is 58\n",
      " the special charcters in ; is 59\n",
      " the special charcters in < is 60\n",
      " the special charcters in = is 61\n",
      " the special charcters in > is 62\n",
      " the special charcters in ? is 63\n",
      " the special charcters in @ is 64\n",
      " the special charcters in [ is 91\n",
      " the special charcters in \\ is 92\n",
      " the special charcters in ] is 93\n",
      " the special charcters in ^ is 94\n",
      " the special charcters in _ is 95\n",
      " the special charcters in ` is 96\n",
      " the special charcters in { is 123\n",
      " the special charcters in | is 124\n",
      " the special charcters in } is 125\n",
      " the special charcters in ~ is 126\n"
     ]
    }
   ],
   "source": [
    "import string\n",
    "spl_char=string.punctuation\n",
    "for i in spl_char:\n",
    "    print(f\" the special charcters in {i} is {ord(i)}\")"
   ]
  },
  {
   "cell_type": "code",
   "execution_count": 65,
   "id": "c3648786-5981-421a-a7f1-33d86ab4a1be",
   "metadata": {},
   "outputs": [
    {
     "name": "stdout",
     "output_type": "stream",
     "text": [
      "33 ! =>34 \" =>35 # =>36 $ =>37 % =>38 & =>39 ' =>40 ( =>41 ) =>42 * =>43 + =>44 , =>45 - =>46 . =>47 / =>48 0 =>49 1 =>50 2 =>51 3 =>52 4 =>53 5 =>54 6 =>55 7 =>56 8 =>57 9 =>58 : =>59 ; =>60 < =>61 = =>62 > =>63 ? =>64 @ =>65 A =>66 B =>67 C =>68 D =>69 E =>70 F =>71 G =>72 H =>73 I =>74 J =>75 K =>76 L =>77 M =>78 N =>79 O =>80 P =>81 Q =>82 R =>83 S =>84 T =>85 U =>86 V =>87 W =>88 X =>89 Y =>90 Z =>91 [ =>92 \\ =>93 ] =>94 ^ =>95 _ =>96 ` =>97 a =>98 b =>99 c =>100 d =>101 e =>102 f =>103 g =>104 h =>105 i =>106 j =>107 k =>108 l =>109 m =>110 n =>111 o =>112 p =>113 q =>114 r =>115 s =>116 t =>117 u =>118 v =>119 w =>120 x =>121 y =>122 z =>123 { =>124 | =>125 } =>"
     ]
    }
   ],
   "source": [
    "for i in range(33,126):\n",
    "    print(i,chr(i),end=' =>')"
   ]
  },
  {
   "cell_type": "code",
   "execution_count": 66,
   "id": "02ecc05f-3d5f-4f9d-a688-5685c43344a0",
   "metadata": {},
   "outputs": [
    {
     "name": "stdout",
     "output_type": "stream",
     "text": [
      "900 ΄ =>901 ΅ =>902 Ά =>903 · =>904 Έ =>905 Ή =>906 Ί =>907 ΋ =>908 Ό =>909 ΍ =>910 Ύ =>911 Ώ =>912 ΐ =>913 Α =>914 Β =>915 Γ =>916 Δ =>917 Ε =>918 Ζ =>919 Η =>920 Θ =>921 Ι =>922 Κ =>923 Λ =>924 Μ =>925 Ν =>926 Ξ =>927 Ο =>928 Π =>929 Ρ =>930 ΢ =>931 Σ =>932 Τ =>933 Υ =>934 Φ =>935 Χ =>936 Ψ =>937 Ω =>938 Ϊ =>939 Ϋ =>940 ά =>941 έ =>942 ή =>943 ί =>944 ΰ =>945 α =>946 β =>947 γ =>948 δ =>949 ε =>950 ζ =>951 η =>952 θ =>953 ι =>954 κ =>955 λ =>956 μ =>957 ν =>958 ξ =>959 ο =>960 π =>961 ρ =>962 ς =>963 σ =>964 τ =>965 υ =>966 φ =>967 χ =>968 ψ =>969 ω =>970 ϊ =>971 ϋ =>972 ό =>973 ύ =>974 ώ =>975 Ϗ =>976 ϐ =>977 ϑ =>978 ϒ =>979 ϓ =>980 ϔ =>981 ϕ =>982 ϖ =>983 ϗ =>984 Ϙ =>985 ϙ =>986 Ϛ =>987 ϛ =>988 Ϝ =>989 ϝ =>990 Ϟ =>991 ϟ =>992 Ϡ =>993 ϡ =>994 Ϣ =>995 ϣ =>996 Ϥ =>997 ϥ =>998 Ϧ =>999 ϧ =>1000 Ϩ =>1001 ϩ =>1002 Ϫ =>1003 ϫ =>1004 Ϭ =>1005 ϭ =>1006 Ϯ =>1007 ϯ =>1008 ϰ =>1009 ϱ =>1010 ϲ =>1011 ϳ =>1012 ϴ =>1013 ϵ =>1014 ϶ =>1015 Ϸ =>1016 ϸ =>1017 Ϲ =>1018 Ϻ =>1019 ϻ =>1020 ϼ =>1021 Ͻ =>1022 Ͼ =>1023 Ͽ =>1024 Ѐ =>1025 Ё =>1026 Ђ =>1027 Ѓ =>1028 Є =>1029 Ѕ =>1030 І =>1031 Ї =>1032 Ј =>1033 Љ =>1034 Њ =>1035 Ћ =>1036 Ќ =>1037 Ѝ =>1038 Ў =>1039 Џ =>1040 А =>1041 Б =>1042 В =>1043 Г =>1044 Д =>1045 Е =>1046 Ж =>1047 З =>1048 И =>1049 Й =>1050 К =>1051 Л =>1052 М =>1053 Н =>1054 О =>1055 П =>1056 Р =>1057 С =>1058 Т =>1059 У =>1060 Ф =>1061 Х =>1062 Ц =>1063 Ч =>1064 Ш =>1065 Щ =>1066 Ъ =>1067 Ы =>1068 Ь =>1069 Э =>1070 Ю =>1071 Я =>1072 а =>1073 б =>1074 в =>1075 г =>1076 д =>1077 е =>1078 ж =>1079 з =>1080 и =>1081 й =>1082 к =>1083 л =>1084 м =>1085 н =>1086 о =>1087 п =>1088 р =>1089 с =>1090 т =>1091 у =>1092 ф =>1093 х =>1094 ц =>1095 ч =>1096 ш =>1097 щ =>1098 ъ =>1099 ы =>1100 ь =>1101 э =>1102 ю =>1103 я =>1104 ѐ =>1105 ё =>1106 ђ =>1107 ѓ =>1108 є =>1109 ѕ =>1110 і =>1111 ї =>1112 ј =>1113 љ =>1114 њ =>1115 ћ =>1116 ќ =>1117 ѝ =>1118 ў =>1119 џ =>1120 Ѡ =>1121 ѡ =>1122 Ѣ =>1123 ѣ =>1124 Ѥ =>1125 ѥ =>1126 Ѧ =>1127 ѧ =>1128 Ѩ =>1129 ѩ =>1130 Ѫ =>1131 ѫ =>1132 Ѭ =>1133 ѭ =>1134 Ѯ =>1135 ѯ =>1136 Ѱ =>1137 ѱ =>1138 Ѳ =>1139 ѳ =>1140 Ѵ =>1141 ѵ =>1142 Ѷ =>1143 ѷ =>1144 Ѹ =>1145 ѹ =>1146 Ѻ =>1147 ѻ =>1148 Ѽ =>1149 ѽ =>1150 Ѿ =>1151 ѿ =>1152 Ҁ =>1153 ҁ =>1154 ҂ =>1155 ҃ =>1156 ҄ =>1157 ҅ =>1158 ҆ =>1159 ҇ =>1160 ҈ =>1161 ҉ =>1162 Ҋ =>1163 ҋ =>1164 Ҍ =>1165 ҍ =>1166 Ҏ =>1167 ҏ =>1168 Ґ =>1169 ґ =>1170 Ғ =>1171 ғ =>1172 Ҕ =>1173 ҕ =>1174 Җ =>1175 җ =>1176 Ҙ =>1177 ҙ =>1178 Қ =>1179 қ =>1180 Ҝ =>1181 ҝ =>1182 Ҟ =>1183 ҟ =>1184 Ҡ =>1185 ҡ =>1186 Ң =>1187 ң =>1188 Ҥ =>1189 ҥ =>1190 Ҧ =>1191 ҧ =>1192 Ҩ =>1193 ҩ =>1194 Ҫ =>1195 ҫ =>1196 Ҭ =>1197 ҭ =>1198 Ү =>1199 ү =>1200 Ұ =>1201 ұ =>1202 Ҳ =>1203 ҳ =>1204 Ҵ =>1205 ҵ =>1206 Ҷ =>1207 ҷ =>1208 Ҹ =>1209 ҹ =>1210 Һ =>1211 һ =>1212 Ҽ =>1213 ҽ =>1214 Ҿ =>1215 ҿ =>1216 Ӏ =>1217 Ӂ =>1218 ӂ =>1219 Ӄ =>1220 ӄ =>1221 Ӆ =>1222 ӆ =>1223 Ӈ =>1224 ӈ =>1225 Ӊ =>1226 ӊ =>1227 Ӌ =>1228 ӌ =>1229 Ӎ =>1230 ӎ =>1231 ӏ =>1232 Ӑ =>1233 ӑ =>1234 Ӓ =>1235 ӓ =>1236 Ӕ =>1237 ӕ =>1238 Ӗ =>1239 ӗ =>1240 Ә =>1241 ә =>1242 Ӛ =>1243 ӛ =>1244 Ӝ =>1245 ӝ =>1246 Ӟ =>1247 ӟ =>1248 Ӡ =>1249 ӡ =>1250 Ӣ =>1251 ӣ =>1252 Ӥ =>1253 ӥ =>1254 Ӧ =>1255 ӧ =>1256 Ө =>1257 ө =>1258 Ӫ =>1259 ӫ =>1260 Ӭ =>1261 ӭ =>1262 Ӯ =>1263 ӯ =>1264 Ӱ =>1265 ӱ =>1266 Ӳ =>1267 ӳ =>1268 Ӵ =>1269 ӵ =>1270 Ӷ =>1271 ӷ =>1272 Ӹ =>1273 ӹ =>1274 Ӻ =>1275 ӻ =>1276 Ӽ =>1277 ӽ =>1278 Ӿ =>1279 ӿ =>1280 Ԁ =>1281 ԁ =>1282 Ԃ =>1283 ԃ =>1284 Ԅ =>1285 ԅ =>1286 Ԇ =>1287 ԇ =>1288 Ԉ =>1289 ԉ =>1290 Ԋ =>1291 ԋ =>1292 Ԍ =>1293 ԍ =>1294 Ԏ =>1295 ԏ =>1296 Ԑ =>1297 ԑ =>1298 Ԓ =>1299 ԓ =>1300 Ԕ =>1301 ԕ =>1302 Ԗ =>1303 ԗ =>1304 Ԙ =>1305 ԙ =>1306 Ԛ =>1307 ԛ =>1308 Ԝ =>1309 ԝ =>1310 Ԟ =>1311 ԟ =>1312 Ԡ =>1313 ԡ =>1314 Ԣ =>1315 ԣ =>1316 Ԥ =>1317 ԥ =>1318 Ԧ =>1319 ԧ =>1320 Ԩ =>1321 ԩ =>1322 Ԫ =>1323 ԫ =>1324 Ԭ =>1325 ԭ =>1326 Ԯ =>1327 ԯ =>1328 ԰ =>1329 Ա =>1330 Բ =>1331 Գ =>1332 Դ =>1333 Ե =>1334 Զ =>1335 Է =>1336 Ը =>1337 Թ =>1338 Ժ =>1339 Ի =>1340 Լ =>1341 Խ =>1342 Ծ =>1343 Կ =>1344 Հ =>1345 Ձ =>1346 Ղ =>1347 Ճ =>1348 Մ =>1349 Յ =>1350 Ն =>1351 Շ =>1352 Ո =>1353 Չ =>1354 Պ =>1355 Ջ =>1356 Ռ =>1357 Ս =>1358 Վ =>1359 Տ =>1360 Ր =>1361 Ց =>1362 Ւ =>1363 Փ =>1364 Ք =>1365 Օ =>1366 Ֆ =>1367 ՗ =>1368 ՘ =>1369 ՙ =>1370 ՚ =>1371 ՛ =>1372 ՜ =>1373 ՝ =>1374 ՞ =>1375 ՟ =>1376 ՠ =>1377 ա =>1378 բ =>1379 գ =>1380 դ =>1381 ե =>1382 զ =>1383 է =>1384 ը =>1385 թ =>1386 ժ =>1387 ի =>1388 լ =>1389 խ =>1390 ծ =>1391 կ =>1392 հ =>1393 ձ =>1394 ղ =>1395 ճ =>1396 մ =>1397 յ =>1398 ն =>1399 շ =>1400 ո =>1401 չ =>1402 պ =>1403 ջ =>1404 ռ =>1405 ս =>1406 վ =>1407 տ =>1408 ր =>1409 ց =>1410 ւ =>1411 փ =>1412 ք =>1413 օ =>1414 ֆ =>1415 և =>1416 ֈ =>1417 ։ =>1418 ֊ =>1419 ֋ =>1420 ֌ =>1421 ֍ =>1422 ֎ =>1423 ֏ =>1424 ֐ =>1425 ֑ =>1426 ֒ =>1427 ֓ =>1428 ֔ =>1429 ֕ =>1430 ֖ =>1431 ֗ =>1432 ֘ =>1433 ֙ =>1434 ֚ =>1435 ֛ =>1436 ֜ =>1437 ֝ =>1438 ֞ =>1439 ֟ =>1440 ֠ =>1441 ֡ =>1442 ֢ =>1443 ֣ =>1444 ֤ =>1445 ֥ =>1446 ֦ =>1447 ֧ =>1448 ֨ =>1449 ֩ =>1450 ֪ =>1451 ֫ =>1452 ֬ =>1453 ֭ =>1454 ֮ =>1455 ֯ =>1456 ְ =>1457 ֱ =>1458 ֲ =>1459 ֳ =>1460 ִ =>1461 ֵ =>1462 ֶ =>1463 ַ =>1464 ָ =>1465 ֹ =>1466 ֺ =>1467 ֻ =>1468 ּ =>1469 ֽ =>1470 ־ =>1471 ֿ =>1472 ׀ =>1473 ׁ =>1474 ׂ =>1475 ׃ =>1476 ׄ =>1477 ׅ =>1478 ׆ =>1479 ׇ =>1480 ׈ =>1481 ׉ =>1482 ׊ =>1483 ׋ =>1484 ׌ =>1485 ׍ =>1486 ׎ =>1487 ׏ =>1488 א =>1489 ב =>1490 ג =>1491 ד =>1492 ה =>1493 ו =>1494 ז =>1495 ח =>1496 ט =>1497 י =>1498 ך =>1499 כ =>1500 ל =>1501 ם =>1502 מ =>1503 ן =>1504 נ =>1505 ס =>1506 ע =>1507 ף =>1508 פ =>1509 ץ =>1510 צ =>1511 ק =>1512 ר =>1513 ש =>1514 ת =>1515 ׫ =>1516 ׬ =>1517 ׭ =>1518 ׮ =>1519 ׯ =>1520 װ =>1521 ױ =>1522 ײ =>1523 ׳ =>1524 ״ =>1525 ׵ =>1526 ׶ =>1527 ׷ =>1528 ׸ =>1529 ׹ =>1530 ׺ =>1531 ׻ =>1532 ׼ =>1533 ׽ =>1534 ׾ =>1535 ׿ =>1536 ؀ =>1537 ؁ =>1538 ؂ =>1539 ؃ =>1540 ؄ =>1541 ؅ =>1542 ؆ =>1543 ؇ =>1544 ؈ =>1545 ؉ =>1546 ؊ =>1547 ؋ =>1548 ، =>1549 ؍ =>1550 ؎ =>1551 ؏ =>1552 ؐ =>1553 ؑ =>1554 ؒ =>1555 ؓ =>1556 ؔ =>1557 ؕ =>1558 ؖ =>1559 ؗ =>1560 ؘ =>1561 ؙ =>1562 ؚ =>1563 ؛ =>1564 ؜ =>1565 ؝ =>1566 ؞ =>1567 ؟ =>1568 ؠ =>1569 ء =>1570 آ =>1571 أ =>1572 ؤ =>1573 إ =>1574 ئ =>1575 ا =>1576 ب =>1577 ة =>1578 ت =>1579 ث =>1580 ج =>1581 ح =>1582 خ =>1583 د =>1584 ذ =>1585 ر =>1586 ز =>1587 س =>1588 ش =>1589 ص =>1590 ض =>1591 ط =>1592 ظ =>1593 ع =>1594 غ =>1595 ػ =>1596 ؼ =>1597 ؽ =>1598 ؾ =>1599 ؿ =>1600 ـ =>1601 ف =>1602 ق =>1603 ك =>1604 ل =>1605 م =>1606 ن =>1607 ه =>1608 و =>1609 ى =>1610 ي =>1611 ً =>1612 ٌ =>1613 ٍ =>1614 َ =>1615 ُ =>1616 ِ =>1617 ّ =>1618 ْ =>1619 ٓ =>1620 ٔ =>1621 ٕ =>1622 ٖ =>1623 ٗ =>1624 ٘ =>1625 ٙ =>1626 ٚ =>1627 ٛ =>1628 ٜ =>1629 ٝ =>1630 ٞ =>1631 ٟ =>1632 ٠ =>1633 ١ =>1634 ٢ =>1635 ٣ =>1636 ٤ =>1637 ٥ =>1638 ٦ =>1639 ٧ =>1640 ٨ =>1641 ٩ =>1642 ٪ =>1643 ٫ =>1644 ٬ =>1645 ٭ =>1646 ٮ =>1647 ٯ =>1648 ٰ =>1649 ٱ =>1650 ٲ =>1651 ٳ =>1652 ٴ =>1653 ٵ =>1654 ٶ =>1655 ٷ =>1656 ٸ =>1657 ٹ =>1658 ٺ =>1659 ٻ =>1660 ټ =>1661 ٽ =>1662 پ =>1663 ٿ =>1664 ڀ =>1665 ځ =>1666 ڂ =>1667 ڃ =>1668 ڄ =>1669 څ =>1670 چ =>1671 ڇ =>1672 ڈ =>1673 ډ =>1674 ڊ =>1675 ڋ =>1676 ڌ =>1677 ڍ =>1678 ڎ =>1679 ڏ =>1680 ڐ =>1681 ڑ =>1682 ڒ =>1683 ړ =>1684 ڔ =>1685 ڕ =>1686 ږ =>1687 ڗ =>1688 ژ =>1689 ڙ =>1690 ښ =>1691 ڛ =>1692 ڜ =>1693 ڝ =>1694 ڞ =>1695 ڟ =>1696 ڠ =>1697 ڡ =>1698 ڢ =>1699 ڣ =>1700 ڤ =>1701 ڥ =>1702 ڦ =>1703 ڧ =>1704 ڨ =>1705 ک =>1706 ڪ =>1707 ګ =>1708 ڬ =>1709 ڭ =>1710 ڮ =>1711 گ =>1712 ڰ =>1713 ڱ =>1714 ڲ =>1715 ڳ =>1716 ڴ =>1717 ڵ =>1718 ڶ =>1719 ڷ =>1720 ڸ =>1721 ڹ =>1722 ں =>1723 ڻ =>1724 ڼ =>1725 ڽ =>1726 ھ =>1727 ڿ =>1728 ۀ =>1729 ہ =>1730 ۂ =>1731 ۃ =>1732 ۄ =>1733 ۅ =>1734 ۆ =>1735 ۇ =>1736 ۈ =>1737 ۉ =>1738 ۊ =>1739 ۋ =>1740 ی =>1741 ۍ =>1742 ێ =>1743 ۏ =>1744 ې =>1745 ۑ =>1746 ے =>1747 ۓ =>1748 ۔ =>1749 ە =>1750 ۖ =>1751 ۗ =>1752 ۘ =>1753 ۙ =>1754 ۚ =>1755 ۛ =>1756 ۜ =>1757 ۝ =>1758 ۞ =>1759 ۟ =>1760 ۠ =>1761 ۡ =>1762 ۢ =>1763 ۣ =>1764 ۤ =>1765 ۥ =>1766 ۦ =>1767 ۧ =>1768 ۨ =>1769 ۩ =>1770 ۪ =>1771 ۫ =>1772 ۬ =>1773 ۭ =>1774 ۮ =>1775 ۯ =>1776 ۰ =>1777 ۱ =>1778 ۲ =>1779 ۳ =>1780 ۴ =>1781 ۵ =>1782 ۶ =>1783 ۷ =>1784 ۸ =>1785 ۹ =>1786 ۺ =>1787 ۻ =>1788 ۼ =>1789 ۽ =>1790 ۾ =>1791 ۿ =>1792 ܀ =>1793 ܁ =>1794 ܂ =>1795 ܃ =>1796 ܄ =>1797 ܅ =>1798 ܆ =>1799 ܇ =>1800 ܈ =>1801 ܉ =>1802 ܊ =>1803 ܋ =>1804 ܌ =>1805 ܍ =>1806 ܎ =>1807 ܏ =>1808 ܐ =>1809 ܑ =>1810 ܒ =>1811 ܓ =>1812 ܔ =>1813 ܕ =>1814 ܖ =>1815 ܗ =>1816 ܘ =>1817 ܙ =>1818 ܚ =>1819 ܛ =>1820 ܜ =>1821 ܝ =>1822 ܞ =>1823 ܟ =>1824 ܠ =>1825 ܡ =>1826 ܢ =>1827 ܣ =>1828 ܤ =>1829 ܥ =>1830 ܦ =>1831 ܧ =>1832 ܨ =>1833 ܩ =>1834 ܪ =>1835 ܫ =>1836 ܬ =>1837 ܭ =>1838 ܮ =>1839 ܯ =>1840 ܰ =>1841 ܱ =>1842 ܲ =>1843 ܳ =>1844 ܴ =>1845 ܵ =>1846 ܶ =>1847 ܷ =>1848 ܸ =>1849 ܹ =>1850 ܺ =>1851 ܻ =>1852 ܼ =>1853 ܽ =>1854 ܾ =>1855 ܿ =>1856 ݀ =>1857 ݁ =>1858 ݂ =>1859 ݃ =>1860 ݄ =>1861 ݅ =>1862 ݆ =>1863 ݇ =>1864 ݈ =>1865 ݉ =>1866 ݊ =>1867 ݋ =>1868 ݌ =>1869 ݍ =>1870 ݎ =>1871 ݏ =>1872 ݐ =>1873 ݑ =>1874 ݒ =>1875 ݓ =>1876 ݔ =>1877 ݕ =>1878 ݖ =>1879 ݗ =>1880 ݘ =>1881 ݙ =>1882 ݚ =>1883 ݛ =>1884 ݜ =>1885 ݝ =>1886 ݞ =>1887 ݟ =>1888 ݠ =>1889 ݡ =>1890 ݢ =>1891 ݣ =>1892 ݤ =>1893 ݥ =>1894 ݦ =>1895 ݧ =>1896 ݨ =>1897 ݩ =>1898 ݪ =>1899 ݫ =>1900 ݬ =>1901 ݭ =>1902 ݮ =>1903 ݯ =>1904 ݰ =>1905 ݱ =>1906 ݲ =>1907 ݳ =>1908 ݴ =>1909 ݵ =>1910 ݶ =>1911 ݷ =>1912 ݸ =>1913 ݹ =>1914 ݺ =>1915 ݻ =>1916 ݼ =>1917 ݽ =>1918 ݾ =>1919 ݿ =>1920 ހ =>1921 ށ =>1922 ނ =>1923 ރ =>1924 ބ =>1925 ޅ =>1926 ކ =>1927 އ =>1928 ވ =>1929 މ =>1930 ފ =>1931 ދ =>1932 ތ =>1933 ލ =>1934 ގ =>1935 ޏ =>1936 ސ =>1937 ޑ =>1938 ޒ =>1939 ޓ =>1940 ޔ =>1941 ޕ =>1942 ޖ =>1943 ޗ =>1944 ޘ =>1945 ޙ =>1946 ޚ =>1947 ޛ =>1948 ޜ =>1949 ޝ =>1950 ޞ =>1951 ޟ =>1952 ޠ =>1953 ޡ =>1954 ޢ =>1955 ޣ =>1956 ޤ =>1957 ޥ =>1958 ަ =>1959 ާ =>1960 ި =>1961 ީ =>1962 ު =>1963 ޫ =>1964 ެ =>1965 ޭ =>1966 ޮ =>1967 ޯ =>1968 ް =>1969 ޱ =>1970 ޲ =>1971 ޳ =>1972 ޴ =>1973 ޵ =>1974 ޶ =>1975 ޷ =>1976 ޸ =>1977 ޹ =>1978 ޺ =>1979 ޻ =>1980 ޼ =>1981 ޽ =>1982 ޾ =>1983 ޿ =>1984 ߀ =>1985 ߁ =>1986 ߂ =>1987 ߃ =>1988 ߄ =>1989 ߅ =>1990 ߆ =>1991 ߇ =>1992 ߈ =>1993 ߉ =>1994 ߊ =>1995 ߋ =>1996 ߌ =>1997 ߍ =>1998 ߎ =>1999 ߏ =>"
     ]
    }
   ],
   "source": [
    "for i in range(900,2000):\n",
    "    print(i,chr(i),end=' =>')"
   ]
  },
  {
   "cell_type": "code",
   "execution_count": 67,
   "id": "6be534d0-ed55-4a7a-8a98-57c5bb4580ca",
   "metadata": {},
   "outputs": [
    {
     "name": "stdout",
     "output_type": "stream",
     "text": [
      "3078 ఆ =>3079 ఇ =>3080 ఈ =>3081 ఉ =>3082 ఊ =>3083 ఋ =>3084 ఌ =>3085 ఍ =>3086 ఎ =>3087 ఏ =>3088 ఐ =>3089 ఑ =>3090 ఒ =>3091 ఓ =>3092 ఔ =>3093 క =>3094 ఖ =>3095 గ =>3096 ఘ =>3097 ఙ =>3098 చ =>3099 ఛ =>3100 జ =>3101 ఝ =>3102 ఞ =>3103 ట =>3104 ఠ =>3105 డ =>3106 ఢ =>3107 ణ =>3108 త =>3109 థ =>3110 ద =>3111 ధ =>3112 న =>3113 ఩ =>3114 ప =>3115 ఫ =>3116 బ =>3117 భ =>3118 మ =>3119 య =>3120 ర =>3121 ఱ =>3122 ల =>3123 ళ =>3124 ఴ =>3125 వ =>3126 శ =>3127 ష =>3128 స =>3129 హ =>3130 ఺ =>3131 ఻ =>3132 ఼ =>3133 ఽ =>3134 ా =>3135 ి =>3136 ీ =>3137 ు =>3138 ూ =>3139 ృ =>3140 ౄ =>3141 ౅ =>3142 ె =>3143 ే =>3144 ై =>3145 ౉ =>3146 ొ =>3147 ో =>3148 ౌ =>3149 ్ =>3150 ౎ =>3151 ౏ =>3152 ౐ =>3153 ౑ =>3154 ౒ =>3155 ౓ =>3156 ౔ =>3157 ౕ =>3158 ౖ =>3159 ౗ =>3160 ౘ =>3161 ౙ =>3162 ౚ =>3163 ౛ =>3164 ౜ =>3165 ౝ =>3166 ౞ =>3167 ౟ =>3168 ౠ =>3169 ౡ =>3170 ౢ =>3171 ౣ =>3172 ౤ =>3173 ౥ =>3174 ౦ =>3175 ౧ =>3176 ౨ =>3177 ౩ =>"
     ]
    }
   ],
   "source": [
    "for i in range(3078,3178):\n",
    "    print(i,chr(i),end=' =>')"
   ]
  },
  {
   "cell_type": "code",
   "execution_count": null,
   "id": "154f5f22-df7c-4548-aac4-84018e9d28be",
   "metadata": {},
   "outputs": [],
   "source": []
  }
 ],
 "metadata": {
  "kernelspec": {
   "display_name": "Python 3 (ipykernel)",
   "language": "python",
   "name": "python3"
  },
  "language_info": {
   "codemirror_mode": {
    "name": "ipython",
    "version": 3
   },
   "file_extension": ".py",
   "mimetype": "text/x-python",
   "name": "python",
   "nbconvert_exporter": "python",
   "pygments_lexer": "ipython3",
   "version": "3.11.7"
  }
 },
 "nbformat": 4,
 "nbformat_minor": 5
}
